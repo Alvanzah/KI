{
 "cells": [
  {
   "cell_type": "code",
   "execution_count": 2,
   "id": "570e2741",
   "metadata": {
    "id": "570e2741"
   },
   "outputs": [],
   "source": [
    "import pandas as pd\n",
    "import numpy as np\n",
    "import matplotlib.pyplot as plt\n",
    "import seaborn as sns\n",
    "import copy\n",
    "import random\n",
    "%matplotlib inline\n",
    "\n",
    "import warnings\n",
    "warnings.filterwarnings('ignore')\n",
    "\n",
    "from sklearn.preprocessing import StandardScaler\n",
    "from tqdm import tqdm"
   ]
  },
  {
   "cell_type": "markdown",
   "id": "da57f320",
   "metadata": {
    "id": "da57f320"
   },
   "source": [
    "# Data Preparation"
   ]
  },
  {
   "cell_type": "code",
   "execution_count": 3,
   "id": "fafac8a1",
   "metadata": {
    "id": "fafac8a1"
   },
   "outputs": [],
   "source": [
    "df = pd.read_csv(r'C:\\Users\\alvan\\Downloads\\diabetes_klasifikasi.csv')"
   ]
  },
  {
   "cell_type": "code",
   "execution_count": 4,
   "id": "6cb2a168",
   "metadata": {
    "colab": {
     "base_uri": "https://localhost:8080/",
     "height": 0
    },
    "id": "6cb2a168",
    "outputId": "c8b7fbc9-2c5f-4e2e-a5bb-c9bac9fc57e4"
   },
   "outputs": [
    {
     "data": {
      "text/plain": [
       "0"
      ]
     },
     "execution_count": 4,
     "metadata": {},
     "output_type": "execute_result"
    }
   ],
   "source": [
    "df.duplicated().sum()"
   ]
  },
  {
   "cell_type": "code",
   "execution_count": 5,
   "id": "ba38e3ec",
   "metadata": {
    "colab": {
     "base_uri": "https://localhost:8080/"
    },
    "id": "ba38e3ec",
    "outputId": "27716c76-ec2a-4ac8-a647-1b1f8ccd69d4"
   },
   "outputs": [
    {
     "name": "stdout",
     "output_type": "stream",
     "text": [
      "<class 'pandas.core.frame.DataFrame'>\n",
      "RangeIndex: 768 entries, 0 to 767\n",
      "Data columns (total 9 columns):\n",
      " #   Column                    Non-Null Count  Dtype  \n",
      "---  ------                    --------------  -----  \n",
      " 0   Pregnancies               768 non-null    int64  \n",
      " 1   Glucose                   768 non-null    int64  \n",
      " 2   BloodPressure             768 non-null    int64  \n",
      " 3   SkinThickness             768 non-null    int64  \n",
      " 4   Insulin                   768 non-null    int64  \n",
      " 5   BMI                       768 non-null    float64\n",
      " 6   DiabetesPedigreeFunction  768 non-null    float64\n",
      " 7   Age                       768 non-null    int64  \n",
      " 8   Outcome                   768 non-null    int64  \n",
      "dtypes: float64(2), int64(7)\n",
      "memory usage: 54.1 KB\n"
     ]
    }
   ],
   "source": [
    "df.info()"
   ]
  },
  {
   "cell_type": "markdown",
   "id": "7f05b344",
   "metadata": {
    "id": "7f05b344"
   },
   "source": [
    "# Exploratory Data Analysis"
   ]
  },
  {
   "cell_type": "code",
   "execution_count": 6,
   "id": "40602ab4",
   "metadata": {
    "colab": {
     "base_uri": "https://localhost:8080/",
     "height": 300
    },
    "id": "40602ab4",
    "outputId": "8d4ec384-c4c0-42b9-e182-cbc994838418"
   },
   "outputs": [
    {
     "data": {
      "text/html": [
       "<div>\n",
       "<style scoped>\n",
       "    .dataframe tbody tr th:only-of-type {\n",
       "        vertical-align: middle;\n",
       "    }\n",
       "\n",
       "    .dataframe tbody tr th {\n",
       "        vertical-align: top;\n",
       "    }\n",
       "\n",
       "    .dataframe thead th {\n",
       "        text-align: right;\n",
       "    }\n",
       "</style>\n",
       "<table border=\"1\" class=\"dataframe\">\n",
       "  <thead>\n",
       "    <tr style=\"text-align: right;\">\n",
       "      <th></th>\n",
       "      <th>Pregnancies</th>\n",
       "      <th>Glucose</th>\n",
       "      <th>BloodPressure</th>\n",
       "      <th>SkinThickness</th>\n",
       "      <th>Insulin</th>\n",
       "      <th>BMI</th>\n",
       "      <th>DiabetesPedigreeFunction</th>\n",
       "      <th>Age</th>\n",
       "      <th>Outcome</th>\n",
       "    </tr>\n",
       "  </thead>\n",
       "  <tbody>\n",
       "    <tr>\n",
       "      <th>count</th>\n",
       "      <td>768.000000</td>\n",
       "      <td>768.000000</td>\n",
       "      <td>768.000000</td>\n",
       "      <td>768.000000</td>\n",
       "      <td>768.000000</td>\n",
       "      <td>768.000000</td>\n",
       "      <td>768.000000</td>\n",
       "      <td>768.000000</td>\n",
       "      <td>768.000000</td>\n",
       "    </tr>\n",
       "    <tr>\n",
       "      <th>mean</th>\n",
       "      <td>3.845052</td>\n",
       "      <td>120.894531</td>\n",
       "      <td>69.105469</td>\n",
       "      <td>20.536458</td>\n",
       "      <td>79.799479</td>\n",
       "      <td>31.992578</td>\n",
       "      <td>0.471876</td>\n",
       "      <td>33.240885</td>\n",
       "      <td>0.348958</td>\n",
       "    </tr>\n",
       "    <tr>\n",
       "      <th>std</th>\n",
       "      <td>3.369578</td>\n",
       "      <td>31.972618</td>\n",
       "      <td>19.355807</td>\n",
       "      <td>15.952218</td>\n",
       "      <td>115.244002</td>\n",
       "      <td>7.884160</td>\n",
       "      <td>0.331329</td>\n",
       "      <td>11.760232</td>\n",
       "      <td>0.476951</td>\n",
       "    </tr>\n",
       "    <tr>\n",
       "      <th>min</th>\n",
       "      <td>0.000000</td>\n",
       "      <td>0.000000</td>\n",
       "      <td>0.000000</td>\n",
       "      <td>0.000000</td>\n",
       "      <td>0.000000</td>\n",
       "      <td>0.000000</td>\n",
       "      <td>0.078000</td>\n",
       "      <td>21.000000</td>\n",
       "      <td>0.000000</td>\n",
       "    </tr>\n",
       "    <tr>\n",
       "      <th>25%</th>\n",
       "      <td>1.000000</td>\n",
       "      <td>99.000000</td>\n",
       "      <td>62.000000</td>\n",
       "      <td>0.000000</td>\n",
       "      <td>0.000000</td>\n",
       "      <td>27.300000</td>\n",
       "      <td>0.243750</td>\n",
       "      <td>24.000000</td>\n",
       "      <td>0.000000</td>\n",
       "    </tr>\n",
       "    <tr>\n",
       "      <th>50%</th>\n",
       "      <td>3.000000</td>\n",
       "      <td>117.000000</td>\n",
       "      <td>72.000000</td>\n",
       "      <td>23.000000</td>\n",
       "      <td>30.500000</td>\n",
       "      <td>32.000000</td>\n",
       "      <td>0.372500</td>\n",
       "      <td>29.000000</td>\n",
       "      <td>0.000000</td>\n",
       "    </tr>\n",
       "    <tr>\n",
       "      <th>75%</th>\n",
       "      <td>6.000000</td>\n",
       "      <td>140.250000</td>\n",
       "      <td>80.000000</td>\n",
       "      <td>32.000000</td>\n",
       "      <td>127.250000</td>\n",
       "      <td>36.600000</td>\n",
       "      <td>0.626250</td>\n",
       "      <td>41.000000</td>\n",
       "      <td>1.000000</td>\n",
       "    </tr>\n",
       "    <tr>\n",
       "      <th>max</th>\n",
       "      <td>17.000000</td>\n",
       "      <td>199.000000</td>\n",
       "      <td>122.000000</td>\n",
       "      <td>99.000000</td>\n",
       "      <td>846.000000</td>\n",
       "      <td>67.100000</td>\n",
       "      <td>2.420000</td>\n",
       "      <td>81.000000</td>\n",
       "      <td>1.000000</td>\n",
       "    </tr>\n",
       "  </tbody>\n",
       "</table>\n",
       "</div>"
      ],
      "text/plain": [
       "       Pregnancies     Glucose  BloodPressure  SkinThickness     Insulin  \\\n",
       "count   768.000000  768.000000     768.000000     768.000000  768.000000   \n",
       "mean      3.845052  120.894531      69.105469      20.536458   79.799479   \n",
       "std       3.369578   31.972618      19.355807      15.952218  115.244002   \n",
       "min       0.000000    0.000000       0.000000       0.000000    0.000000   \n",
       "25%       1.000000   99.000000      62.000000       0.000000    0.000000   \n",
       "50%       3.000000  117.000000      72.000000      23.000000   30.500000   \n",
       "75%       6.000000  140.250000      80.000000      32.000000  127.250000   \n",
       "max      17.000000  199.000000     122.000000      99.000000  846.000000   \n",
       "\n",
       "              BMI  DiabetesPedigreeFunction         Age     Outcome  \n",
       "count  768.000000                768.000000  768.000000  768.000000  \n",
       "mean    31.992578                  0.471876   33.240885    0.348958  \n",
       "std      7.884160                  0.331329   11.760232    0.476951  \n",
       "min      0.000000                  0.078000   21.000000    0.000000  \n",
       "25%     27.300000                  0.243750   24.000000    0.000000  \n",
       "50%     32.000000                  0.372500   29.000000    0.000000  \n",
       "75%     36.600000                  0.626250   41.000000    1.000000  \n",
       "max     67.100000                  2.420000   81.000000    1.000000  "
      ]
     },
     "execution_count": 6,
     "metadata": {},
     "output_type": "execute_result"
    }
   ],
   "source": [
    "df.describe()"
   ]
  },
  {
   "cell_type": "code",
   "execution_count": 7,
   "id": "e0e0d4d8",
   "metadata": {
    "id": "e0e0d4d8"
   },
   "outputs": [],
   "source": [
    "def plot_null(df):\n",
    "  plt.figure(figsize=(20,5))\n",
    "  ax = sns.barplot(x=df.isna().sum().sort_values().index, \n",
    "                   y=df.isna().sum().sort_values().values)\n",
    "  ax.set_xticklabels(ax.get_xticklabels(), rotation=45)\n",
    "  ax.bar_label(ax.containers[0])\n",
    "  plt.show()"
   ]
  },
  {
   "cell_type": "code",
   "execution_count": 8,
   "id": "dcca7a27",
   "metadata": {
    "colab": {
     "base_uri": "https://localhost:8080/",
     "height": 654
    },
    "id": "dcca7a27",
    "outputId": "f84d813f-1a7e-4040-b3ab-e37ad54cf095"
   },
   "outputs": [
    {
     "data": {
      "image/png": "[encoded data removed]",
      "text/plain": [
       "<Figure size 1440x360 with 1 Axes>"
      ]
     },
     "metadata": {
      "needs_background": "light"
     },
     "output_type": "display_data"
    }
   ],
   "source": [
    "plot_null(df)"
   ]
  },
  {
   "cell_type": "code",
   "execution_count": 9,
   "id": "76eac407",
   "metadata": {
    "colab": {
     "base_uri": "https://localhost:8080/"
    },
    "id": "76eac407",
    "outputId": "d1ebe516-85d9-4e9d-bf2c-c57479b7b2a2"
   },
   "outputs": [
    {
     "data": {
      "text/plain": [
       "0"
      ]
     },
     "execution_count": 9,
     "metadata": {},
     "output_type": "execute_result"
    }
   ],
   "source": [
    "df.duplicated().sum()"
   ]
  },
  {
   "cell_type": "code",
   "execution_count": 10,
   "id": "f72eb16d",
   "metadata": {
    "colab": {
     "base_uri": "https://localhost:8080/"
    },
    "id": "f72eb16d",
    "outputId": "e7e84824-691f-49c7-d82e-fdfd90dbae35"
   },
   "outputs": [
    {
     "data": {
      "text/plain": [
       "0"
      ]
     },
     "execution_count": 10,
     "metadata": {},
     "output_type": "execute_result"
    }
   ],
   "source": [
    "df.iloc[:,:-1].duplicated().sum()"
   ]
  },
  {
   "cell_type": "code",
   "execution_count": 11,
   "id": "ae22ad0d",
   "metadata": {
    "colab": {
     "base_uri": "https://localhost:8080/",
     "height": 390
    },
    "id": "ae22ad0d",
    "outputId": "88dd5ec3-3f06-4319-fb1a-c64aff0fd986"
   },
   "outputs": [
    {
     "data": {
      "image/png": "[encoded data removed]",
      "text/plain": [
       "<Figure size 432x288 with 2 Axes>"
      ]
     },
     "metadata": {
      "needs_background": "light"
     },
     "output_type": "display_data"
    }
   ],
   "source": [
    "sns.heatmap(df.corr(), vmin=-1, center=0, vmax=1, annot=True)\n",
    "plt.show()"
   ]
  },
  {
   "cell_type": "markdown",
   "id": "5282453e",
   "metadata": {
    "id": "5282453e"
   },
   "source": [
    "## Unique and Count Values"
   ]
  },
  {
   "cell_type": "code",
   "execution_count": 12,
   "id": "5a35eaf6",
   "metadata": {
    "colab": {
     "base_uri": "https://localhost:8080/"
    },
    "id": "5a35eaf6",
    "outputId": "7980ed5d-13e2-46ed-9f73-fdfa1e0bfea7"
   },
   "outputs": [
    {
     "name": "stdout",
     "output_type": "stream",
     "text": [
      "1     135\n",
      "0     111\n",
      "2     103\n",
      "3      75\n",
      "4      68\n",
      "5      57\n",
      "6      50\n",
      "7      45\n",
      "8      38\n",
      "9      28\n",
      "10     24\n",
      "11     11\n",
      "13     10\n",
      "12      9\n",
      "14      2\n",
      "15      1\n",
      "17      1\n",
      "Name: Pregnancies, dtype: int64\n",
      "============================ \n",
      "\n",
      "99     17\n",
      "100    17\n",
      "111    14\n",
      "129    14\n",
      "125    14\n",
      "       ..\n",
      "191     1\n",
      "177     1\n",
      "44      1\n",
      "62      1\n",
      "190     1\n",
      "Name: Glucose, Length: 136, dtype: int64\n",
      "============================ \n",
      "\n",
      "70     57\n",
      "74     52\n",
      "78     45\n",
      "68     45\n",
      "72     44\n",
      "64     43\n",
      "80     40\n",
      "76     39\n",
      "60     37\n",
      "0      35\n",
      "62     34\n",
      "66     30\n",
      "82     30\n",
      "88     25\n",
      "84     23\n",
      "90     22\n",
      "86     21\n",
      "58     21\n",
      "50     13\n",
      "56     12\n",
      "52     11\n",
      "54     11\n",
      "75      8\n",
      "92      8\n",
      "65      7\n",
      "85      6\n",
      "94      6\n",
      "48      5\n",
      "96      4\n",
      "44      4\n",
      "100     3\n",
      "106     3\n",
      "98      3\n",
      "110     3\n",
      "55      2\n",
      "108     2\n",
      "104     2\n",
      "46      2\n",
      "30      2\n",
      "122     1\n",
      "95      1\n",
      "102     1\n",
      "61      1\n",
      "24      1\n",
      "38      1\n",
      "40      1\n",
      "114     1\n",
      "Name: BloodPressure, dtype: int64\n",
      "============================ \n",
      "\n",
      "0     227\n",
      "32     31\n",
      "30     27\n",
      "27     23\n",
      "23     22\n",
      "33     20\n",
      "28     20\n",
      "18     20\n",
      "31     19\n",
      "19     18\n",
      "39     18\n",
      "29     17\n",
      "40     16\n",
      "25     16\n",
      "26     16\n",
      "22     16\n",
      "37     16\n",
      "41     15\n",
      "35     15\n",
      "36     14\n",
      "15     14\n",
      "17     14\n",
      "20     13\n",
      "24     12\n",
      "42     11\n",
      "13     11\n",
      "21     10\n",
      "46      8\n",
      "34      8\n",
      "12      7\n",
      "38      7\n",
      "11      6\n",
      "43      6\n",
      "16      6\n",
      "45      6\n",
      "14      6\n",
      "44      5\n",
      "10      5\n",
      "48      4\n",
      "47      4\n",
      "49      3\n",
      "50      3\n",
      "8       2\n",
      "7       2\n",
      "52      2\n",
      "54      2\n",
      "63      1\n",
      "60      1\n",
      "56      1\n",
      "51      1\n",
      "99      1\n",
      "Name: SkinThickness, dtype: int64\n",
      "============================ \n",
      "\n",
      "0      374\n",
      "105     11\n",
      "130      9\n",
      "140      9\n",
      "120      8\n",
      "      ... \n",
      "73       1\n",
      "171      1\n",
      "255      1\n",
      "52       1\n",
      "112      1\n",
      "Name: Insulin, Length: 186, dtype: int64\n",
      "============================ \n",
      "\n",
      "32.0    13\n",
      "31.6    12\n",
      "31.2    12\n",
      "0.0     11\n",
      "32.4    10\n",
      "        ..\n",
      "36.7     1\n",
      "41.8     1\n",
      "42.6     1\n",
      "42.8     1\n",
      "46.3     1\n",
      "Name: BMI, Length: 248, dtype: int64\n",
      "============================ \n",
      "\n",
      "0.258    6\n",
      "0.254    6\n",
      "0.268    5\n",
      "0.207    5\n",
      "0.261    5\n",
      "        ..\n",
      "1.353    1\n",
      "0.655    1\n",
      "0.092    1\n",
      "0.926    1\n",
      "0.171    1\n",
      "Name: DiabetesPedigreeFunction, Length: 517, dtype: int64\n",
      "============================ \n",
      "\n",
      "22    72\n",
      "21    63\n",
      "25    48\n",
      "24    46\n",
      "23    38\n",
      "28    35\n",
      "26    33\n",
      "27    32\n",
      "29    29\n",
      "31    24\n",
      "41    22\n",
      "30    21\n",
      "37    19\n",
      "42    18\n",
      "33    17\n",
      "38    16\n",
      "36    16\n",
      "32    16\n",
      "45    15\n",
      "34    14\n",
      "46    13\n",
      "43    13\n",
      "40    13\n",
      "39    12\n",
      "35    10\n",
      "50     8\n",
      "51     8\n",
      "52     8\n",
      "44     8\n",
      "58     7\n",
      "47     6\n",
      "54     6\n",
      "49     5\n",
      "48     5\n",
      "57     5\n",
      "53     5\n",
      "60     5\n",
      "66     4\n",
      "63     4\n",
      "62     4\n",
      "55     4\n",
      "67     3\n",
      "56     3\n",
      "59     3\n",
      "65     3\n",
      "69     2\n",
      "61     2\n",
      "72     1\n",
      "81     1\n",
      "64     1\n",
      "70     1\n",
      "68     1\n",
      "Name: Age, dtype: int64\n",
      "============================ \n",
      "\n",
      "0    500\n",
      "1    268\n",
      "Name: Outcome, dtype: int64\n",
      "============================ \n",
      "\n"
     ]
    }
   ],
   "source": [
    "for i in df.columns:\n",
    "    print(df.loc[:,i].value_counts())\n",
    "    print('============================ \\n')"
   ]
  },
  {
   "cell_type": "code",
   "execution_count": 13,
   "id": "4c5a56e7",
   "metadata": {
    "colab": {
     "base_uri": "https://localhost:8080/"
    },
    "id": "4c5a56e7",
    "outputId": "e607c75a-ebd6-49cb-bb60-0023e857455e",
    "scrolled": true
   },
   "outputs": [
    {
     "data": {
      "text/plain": [
       "Index(['Pregnancies', 'Glucose', 'BloodPressure', 'SkinThickness', 'Insulin',\n",
       "       'BMI', 'DiabetesPedigreeFunction', 'Age', 'Outcome'],\n",
       "      dtype='object')"
      ]
     },
     "execution_count": 13,
     "metadata": {},
     "output_type": "execute_result"
    }
   ],
   "source": [
    "df.columns"
   ]
  },
  {
   "cell_type": "markdown",
   "id": "75d9ad6b",
   "metadata": {
    "id": "75d9ad6b"
   },
   "source": [
    "## Univariate Analysis"
   ]
  },
  {
   "cell_type": "code",
   "execution_count": 14,
   "id": "990bf535",
   "metadata": {
    "colab": {
     "base_uri": "https://localhost:8080/"
    },
    "id": "990bf535",
    "outputId": "1bb6ff57-52e1-41fc-8d8c-db96b424a0da"
   },
   "outputs": [
    {
     "data": {
      "image/png": "[encoded data removed]",
      "text/plain": [
       "<Figure size 432x288 with 1 Axes>"
      ]
     },
     "metadata": {},
     "output_type": "display_data"
    }
   ],
   "source": [
    "plt.pie(x=df['Outcome'].value_counts().values, labels=df['Outcome'].value_counts().index, \n",
    "        explode=(0,0.1), autopct='%1.2f%%', textprops={'fontsize':15})\n",
    "plt.title('Ratio Between Two Class In Dependent Variable')\n",
    "plt.legend(loc='upper right')\n",
    "plt.show()"
   ]
  },
  {
   "cell_type": "code",
   "execution_count": 15,
   "id": "8e5d5cbf",
   "metadata": {
    "colab": {
     "base_uri": "https://localhost:8080/"
    },
    "id": "8e5d5cbf",
    "outputId": "af73c00b-1182-4c69-df3d-f6e2583f7c7c"
   },
   "outputs": [
    {
     "data": {
      "image/png": "[encoded data removed]",
      "text/plain": [
       "<Figure size 1080x3600 with 8 Axes>"
      ]
     },
     "metadata": {
      "needs_background": "light"
     },
     "output_type": "display_data"
    }
   ],
   "source": [
    "fig, ax = plt.subplots(8,1, figsize=(15,50))\n",
    "columns = df.iloc[:,:-1].columns\n",
    "\n",
    "for i, ax in zip(range(len(columns)), ax.flat):\n",
    "    df[columns[i]].value_counts().plot(kind='bar', ax=ax)\n",
    "    ax.set_title(columns[i])\n",
    "    \n",
    "plt.tight_layout()\n",
    "plt.show()"
   ]
  },
  {
   "cell_type": "code",
   "execution_count": 16,
   "id": "93fe6d2b",
   "metadata": {
    "colab": {
     "base_uri": "https://localhost:8080/"
    },
    "id": "93fe6d2b",
    "outputId": "a17422ae-08d7-4f5b-f954-69ddc2e8b0fe",
    "scrolled": true
   },
   "outputs": [
    {
     "data": {
      "image/png": "[encoded data removed]",
      "text/plain": [
       "<Figure size 1080x720 with 8 Axes>"
      ]
     },
     "metadata": {
      "needs_background": "light"
     },
     "output_type": "display_data"
    }
   ],
   "source": [
    "fig, ax = plt.subplots(2,4, figsize=(15,10))\n",
    "columns = df.iloc[:,:-1].columns\n",
    "\n",
    "for i,ax in zip(range(len(columns)), ax.flat):\n",
    "    df[columns[i]].value_counts().plot(kind='box', ax=ax)\n",
    "    \n",
    "plt.tight_layout()\n",
    "plt.show()"
   ]
  },
  {
   "cell_type": "markdown",
   "id": "02eec3f4",
   "metadata": {
    "id": "02eec3f4"
   },
   "source": [
    "## Multivariate Analysis"
   ]
  },
  {
   "cell_type": "code",
   "execution_count": 17,
   "id": "7iQk15H4Tq2c",
   "metadata": {
    "colab": {
     "base_uri": "https://localhost:8080/"
    },
    "collapsed": true,
    "id": "7iQk15H4Tq2c",
    "outputId": "dd27d67d-c85f-49c9-bc41-a3e62eac98c6"
   },
   "outputs": [
    {
     "data": {
      "image/png": "[encoded data removed]",
      "text/plain": [
       "<Figure size 720x3600 with 8 Axes>"
      ]
     },
     "metadata": {
      "needs_background": "light"
     },
     "output_type": "display_data"
    }
   ],
   "source": [
    "fig, axs = plt.subplots(8,1, figsize=(10,50))\n",
    "columns = df.iloc[:,:-1].columns\n",
    "\n",
    "for i, ax in zip(range(len(columns)), axs.flat):\n",
    "    sns.boxplot(x='Outcome', y=columns[i], data=df, ax=ax)\n",
    "    ax.set_title(columns[i])\n",
    "    \n",
    "plt.tight_layout()\n",
    "plt.show()"
   ]
  },
  {
   "cell_type": "markdown",
   "id": "1670a546",
   "metadata": {
    "id": "1670a546"
   },
   "source": [
    "# Data Cleaning"
   ]
  },
  {
   "cell_type": "markdown",
   "id": "6297469e",
   "metadata": {
    "id": "6297469e"
   },
   "source": [
    "## Handle Data Outlier"
   ]
  },
  {
   "cell_type": "code",
   "execution_count": 18,
   "id": "DXQJXIJDVqYV",
   "metadata": {
    "colab": {
     "base_uri": "https://localhost:8080/",
     "height": 0
    },
    "id": "DXQJXIJDVqYV",
    "outputId": "4c34edb9-48ec-40b2-8952-6b395568d3da"
   },
   "outputs": [
    {
     "data": {
      "text/html": [
       "<div>\n",
       "<style scoped>\n",
       "    .dataframe tbody tr th:only-of-type {\n",
       "        vertical-align: middle;\n",
       "    }\n",
       "\n",
       "    .dataframe tbody tr th {\n",
       "        vertical-align: top;\n",
       "    }\n",
       "\n",
       "    .dataframe thead th {\n",
       "        text-align: right;\n",
       "    }\n",
       "</style>\n",
       "<table border=\"1\" class=\"dataframe\">\n",
       "  <thead>\n",
       "    <tr style=\"text-align: right;\">\n",
       "      <th></th>\n",
       "      <th>Pregnancies</th>\n",
       "      <th>Glucose</th>\n",
       "      <th>BloodPressure</th>\n",
       "      <th>SkinThickness</th>\n",
       "      <th>Insulin</th>\n",
       "      <th>BMI</th>\n",
       "      <th>DiabetesPedigreeFunction</th>\n",
       "      <th>Age</th>\n",
       "      <th>Outcome</th>\n",
       "    </tr>\n",
       "  </thead>\n",
       "  <tbody>\n",
       "    <tr>\n",
       "      <th>count</th>\n",
       "      <td>768.000000</td>\n",
       "      <td>768.000000</td>\n",
       "      <td>768.000000</td>\n",
       "      <td>768.000000</td>\n",
       "      <td>768.000000</td>\n",
       "      <td>768.000000</td>\n",
       "      <td>768.000000</td>\n",
       "      <td>768.000000</td>\n",
       "      <td>768.000000</td>\n",
       "    </tr>\n",
       "    <tr>\n",
       "      <th>mean</th>\n",
       "      <td>3.845052</td>\n",
       "      <td>120.894531</td>\n",
       "      <td>69.105469</td>\n",
       "      <td>20.536458</td>\n",
       "      <td>79.799479</td>\n",
       "      <td>31.992578</td>\n",
       "      <td>0.471876</td>\n",
       "      <td>33.240885</td>\n",
       "      <td>0.348958</td>\n",
       "    </tr>\n",
       "    <tr>\n",
       "      <th>std</th>\n",
       "      <td>3.369578</td>\n",
       "      <td>31.972618</td>\n",
       "      <td>19.355807</td>\n",
       "      <td>15.952218</td>\n",
       "      <td>115.244002</td>\n",
       "      <td>7.884160</td>\n",
       "      <td>0.331329</td>\n",
       "      <td>11.760232</td>\n",
       "      <td>0.476951</td>\n",
       "    </tr>\n",
       "    <tr>\n",
       "      <th>min</th>\n",
       "      <td>0.000000</td>\n",
       "      <td>0.000000</td>\n",
       "      <td>0.000000</td>\n",
       "      <td>0.000000</td>\n",
       "      <td>0.000000</td>\n",
       "      <td>0.000000</td>\n",
       "      <td>0.078000</td>\n",
       "      <td>21.000000</td>\n",
       "      <td>0.000000</td>\n",
       "    </tr>\n",
       "    <tr>\n",
       "      <th>25%</th>\n",
       "      <td>1.000000</td>\n",
       "      <td>99.000000</td>\n",
       "      <td>62.000000</td>\n",
       "      <td>0.000000</td>\n",
       "      <td>0.000000</td>\n",
       "      <td>27.300000</td>\n",
       "      <td>0.243750</td>\n",
       "      <td>24.000000</td>\n",
       "      <td>0.000000</td>\n",
       "    </tr>\n",
       "    <tr>\n",
       "      <th>50%</th>\n",
       "      <td>3.000000</td>\n",
       "      <td>117.000000</td>\n",
       "      <td>72.000000</td>\n",
       "      <td>23.000000</td>\n",
       "      <td>30.500000</td>\n",
       "      <td>32.000000</td>\n",
       "      <td>0.372500</td>\n",
       "      <td>29.000000</td>\n",
       "      <td>0.000000</td>\n",
       "    </tr>\n",
       "    <tr>\n",
       "      <th>75%</th>\n",
       "      <td>6.000000</td>\n",
       "      <td>140.250000</td>\n",
       "      <td>80.000000</td>\n",
       "      <td>32.000000</td>\n",
       "      <td>127.250000</td>\n",
       "      <td>36.600000</td>\n",
       "      <td>0.626250</td>\n",
       "      <td>41.000000</td>\n",
       "      <td>1.000000</td>\n",
       "    </tr>\n",
       "    <tr>\n",
       "      <th>max</th>\n",
       "      <td>17.000000</td>\n",
       "      <td>199.000000</td>\n",
       "      <td>122.000000</td>\n",
       "      <td>99.000000</td>\n",
       "      <td>846.000000</td>\n",
       "      <td>67.100000</td>\n",
       "      <td>2.420000</td>\n",
       "      <td>81.000000</td>\n",
       "      <td>1.000000</td>\n",
       "    </tr>\n",
       "  </tbody>\n",
       "</table>\n",
       "</div>"
      ],
      "text/plain": [
       "       Pregnancies     Glucose  BloodPressure  SkinThickness     Insulin  \\\n",
       "count   768.000000  768.000000     768.000000     768.000000  768.000000   \n",
       "mean      3.845052  120.894531      69.105469      20.536458   79.799479   \n",
       "std       3.369578   31.972618      19.355807      15.952218  115.244002   \n",
       "min       0.000000    0.000000       0.000000       0.000000    0.000000   \n",
       "25%       1.000000   99.000000      62.000000       0.000000    0.000000   \n",
       "50%       3.000000  117.000000      72.000000      23.000000   30.500000   \n",
       "75%       6.000000  140.250000      80.000000      32.000000  127.250000   \n",
       "max      17.000000  199.000000     122.000000      99.000000  846.000000   \n",
       "\n",
       "              BMI  DiabetesPedigreeFunction         Age     Outcome  \n",
       "count  768.000000                768.000000  768.000000  768.000000  \n",
       "mean    31.992578                  0.471876   33.240885    0.348958  \n",
       "std      7.884160                  0.331329   11.760232    0.476951  \n",
       "min      0.000000                  0.078000   21.000000    0.000000  \n",
       "25%     27.300000                  0.243750   24.000000    0.000000  \n",
       "50%     32.000000                  0.372500   29.000000    0.000000  \n",
       "75%     36.600000                  0.626250   41.000000    1.000000  \n",
       "max     67.100000                  2.420000   81.000000    1.000000  "
      ]
     },
     "execution_count": 18,
     "metadata": {},
     "output_type": "execute_result"
    }
   ],
   "source": [
    "df.describe()"
   ]
  },
  {
   "cell_type": "code",
   "execution_count": 19,
   "id": "137d4a69",
   "metadata": {
    "id": "137d4a69"
   },
   "outputs": [],
   "source": [
    "columns = df.iloc[:,:-1].columns\n",
    "for col in columns:\n",
    "    iqr = df.loc[:, col].quantile(.75) - df.loc[:, col].quantile(.25)\n",
    "    upper_bound = df.loc[:, col].quantile(.75) + 1.5*iqr\n",
    "\n",
    "    df.loc[df[col]>upper_bound, col] = upper_bound"
   ]
  },
  {
   "cell_type": "code",
   "execution_count": 20,
   "id": "85f97904",
   "metadata": {
    "colab": {
     "base_uri": "https://localhost:8080/",
     "height": 0
    },
    "id": "85f97904",
    "outputId": "e85d6c3d-01fd-4423-fb0f-bd73f704ceca"
   },
   "outputs": [
    {
     "data": {
      "text/html": [
       "<div>\n",
       "<style scoped>\n",
       "    .dataframe tbody tr th:only-of-type {\n",
       "        vertical-align: middle;\n",
       "    }\n",
       "\n",
       "    .dataframe tbody tr th {\n",
       "        vertical-align: top;\n",
       "    }\n",
       "\n",
       "    .dataframe thead th {\n",
       "        text-align: right;\n",
       "    }\n",
       "</style>\n",
       "<table border=\"1\" class=\"dataframe\">\n",
       "  <thead>\n",
       "    <tr style=\"text-align: right;\">\n",
       "      <th></th>\n",
       "      <th>Pregnancies</th>\n",
       "      <th>Glucose</th>\n",
       "      <th>BloodPressure</th>\n",
       "      <th>SkinThickness</th>\n",
       "      <th>Insulin</th>\n",
       "      <th>BMI</th>\n",
       "      <th>DiabetesPedigreeFunction</th>\n",
       "      <th>Age</th>\n",
       "      <th>Outcome</th>\n",
       "    </tr>\n",
       "  </thead>\n",
       "  <tbody>\n",
       "    <tr>\n",
       "      <th>count</th>\n",
       "      <td>768.000000</td>\n",
       "      <td>768.000000</td>\n",
       "      <td>768.00000</td>\n",
       "      <td>768.000000</td>\n",
       "      <td>768.000000</td>\n",
       "      <td>768.000000</td>\n",
       "      <td>768.000000</td>\n",
       "      <td>768.000000</td>\n",
       "      <td>768.000000</td>\n",
       "    </tr>\n",
       "    <tr>\n",
       "      <th>mean</th>\n",
       "      <td>3.837240</td>\n",
       "      <td>120.894531</td>\n",
       "      <td>69.06250</td>\n",
       "      <td>20.511719</td>\n",
       "      <td>73.652669</td>\n",
       "      <td>31.933854</td>\n",
       "      <td>0.458914</td>\n",
       "      <td>33.199870</td>\n",
       "      <td>0.348958</td>\n",
       "    </tr>\n",
       "    <tr>\n",
       "      <th>std</th>\n",
       "      <td>3.344157</td>\n",
       "      <td>31.972618</td>\n",
       "      <td>19.26109</td>\n",
       "      <td>15.844744</td>\n",
       "      <td>93.576029</td>\n",
       "      <td>7.707488</td>\n",
       "      <td>0.285596</td>\n",
       "      <td>11.628404</td>\n",
       "      <td>0.476951</td>\n",
       "    </tr>\n",
       "    <tr>\n",
       "      <th>min</th>\n",
       "      <td>0.000000</td>\n",
       "      <td>0.000000</td>\n",
       "      <td>0.00000</td>\n",
       "      <td>0.000000</td>\n",
       "      <td>0.000000</td>\n",
       "      <td>0.000000</td>\n",
       "      <td>0.078000</td>\n",
       "      <td>21.000000</td>\n",
       "      <td>0.000000</td>\n",
       "    </tr>\n",
       "    <tr>\n",
       "      <th>25%</th>\n",
       "      <td>1.000000</td>\n",
       "      <td>99.000000</td>\n",
       "      <td>62.00000</td>\n",
       "      <td>0.000000</td>\n",
       "      <td>0.000000</td>\n",
       "      <td>27.300000</td>\n",
       "      <td>0.243750</td>\n",
       "      <td>24.000000</td>\n",
       "      <td>0.000000</td>\n",
       "    </tr>\n",
       "    <tr>\n",
       "      <th>50%</th>\n",
       "      <td>3.000000</td>\n",
       "      <td>117.000000</td>\n",
       "      <td>72.00000</td>\n",
       "      <td>23.000000</td>\n",
       "      <td>30.500000</td>\n",
       "      <td>32.000000</td>\n",
       "      <td>0.372500</td>\n",
       "      <td>29.000000</td>\n",
       "      <td>0.000000</td>\n",
       "    </tr>\n",
       "    <tr>\n",
       "      <th>75%</th>\n",
       "      <td>6.000000</td>\n",
       "      <td>140.250000</td>\n",
       "      <td>80.00000</td>\n",
       "      <td>32.000000</td>\n",
       "      <td>127.250000</td>\n",
       "      <td>36.600000</td>\n",
       "      <td>0.626250</td>\n",
       "      <td>41.000000</td>\n",
       "      <td>1.000000</td>\n",
       "    </tr>\n",
       "    <tr>\n",
       "      <th>max</th>\n",
       "      <td>13.500000</td>\n",
       "      <td>199.000000</td>\n",
       "      <td>107.00000</td>\n",
       "      <td>80.000000</td>\n",
       "      <td>318.125000</td>\n",
       "      <td>50.550000</td>\n",
       "      <td>1.200000</td>\n",
       "      <td>66.500000</td>\n",
       "      <td>1.000000</td>\n",
       "    </tr>\n",
       "  </tbody>\n",
       "</table>\n",
       "</div>"
      ],
      "text/plain": [
       "       Pregnancies     Glucose  BloodPressure  SkinThickness     Insulin  \\\n",
       "count   768.000000  768.000000      768.00000     768.000000  768.000000   \n",
       "mean      3.837240  120.894531       69.06250      20.511719   73.652669   \n",
       "std       3.344157   31.972618       19.26109      15.844744   93.576029   \n",
       "min       0.000000    0.000000        0.00000       0.000000    0.000000   \n",
       "25%       1.000000   99.000000       62.00000       0.000000    0.000000   \n",
       "50%       3.000000  117.000000       72.00000      23.000000   30.500000   \n",
       "75%       6.000000  140.250000       80.00000      32.000000  127.250000   \n",
       "max      13.500000  199.000000      107.00000      80.000000  318.125000   \n",
       "\n",
       "              BMI  DiabetesPedigreeFunction         Age     Outcome  \n",
       "count  768.000000                768.000000  768.000000  768.000000  \n",
       "mean    31.933854                  0.458914   33.199870    0.348958  \n",
       "std      7.707488                  0.285596   11.628404    0.476951  \n",
       "min      0.000000                  0.078000   21.000000    0.000000  \n",
       "25%     27.300000                  0.243750   24.000000    0.000000  \n",
       "50%     32.000000                  0.372500   29.000000    0.000000  \n",
       "75%     36.600000                  0.626250   41.000000    1.000000  \n",
       "max     50.550000                  1.200000   66.500000    1.000000  "
      ]
     },
     "execution_count": 20,
     "metadata": {},
     "output_type": "execute_result"
    }
   ],
   "source": [
    "df.describe()"
   ]
  },
  {
   "cell_type": "code",
   "execution_count": 21,
   "id": "98af6bb3",
   "metadata": {
    "colab": {
     "base_uri": "https://localhost:8080/",
     "height": 0
    },
    "id": "98af6bb3",
    "outputId": "ec8bc22a-f020-43f4-ccd0-fa8c93ca60d5"
   },
   "outputs": [
    {
     "data": {
      "image/png": "[encoded data removed]",
      "text/plain": [
       "<Figure size 1080x720 with 8 Axes>"
      ]
     },
     "metadata": {
      "needs_background": "light"
     },
     "output_type": "display_data"
    }
   ],
   "source": [
    "fig, ax = plt.subplots(2,4, figsize=(15,10))\n",
    "columns = df.iloc[:,:-1].columns\n",
    "\n",
    "for i,ax in zip(range(len(columns)), ax.flat):\n",
    "    df[columns[i]].value_counts().plot(kind='box', ax=ax)\n",
    "    \n",
    "plt.tight_layout()\n",
    "plt.show()"
   ]
  },
  {
   "cell_type": "markdown",
   "id": "a873121f",
   "metadata": {
    "id": "a873121f"
   },
   "source": [
    "# Data Preprocessing"
   ]
  },
  {
   "cell_type": "code",
   "execution_count": 22,
   "id": "8lpM1obDWnzj",
   "metadata": {
    "id": "8lpM1obDWnzj"
   },
   "outputs": [],
   "source": [
    "from sklearn.model_selection import train_test_split"
   ]
  },
  {
   "cell_type": "code",
   "execution_count": 23,
   "id": "Pwmx96gYa2fu",
   "metadata": {
    "colab": {
     "base_uri": "https://localhost:8080/"
    },
    "id": "Pwmx96gYa2fu",
    "outputId": "b1e19561-96de-407e-e376-6bcc2b70deae"
   },
   "outputs": [
    {
     "data": {
      "text/plain": [
       "((652, 8), (116, 8), (652,), (116,))"
      ]
     },
     "execution_count": 23,
     "metadata": {},
     "output_type": "execute_result"
    }
   ],
   "source": [
    "X = df.drop('Outcome', axis=1).values\n",
    "y = df['Outcome'].values\n",
    "\n",
    "X_train, X_test, y_train, y_test = train_test_split(X, y, test_size=.15, \n",
    "                                                    random_state=42)\n",
    "\n",
    "X_train.shape, X_test.shape, y_train.shape, y_test.shape"
   ]
  },
  {
   "cell_type": "code",
   "execution_count": 24,
   "id": "10e50154",
   "metadata": {
    "colab": {
     "base_uri": "https://localhost:8080/"
    },
    "id": "10e50154",
    "outputId": "74354ca4-1e60-4190-dedb-3bd1aec3f2cb",
    "scrolled": true
   },
   "outputs": [
    {
     "data": {
      "text/plain": [
       "array([[-0.24514444,  1.28431466, -0.9162586 , ...,  0.7032213 ,\n",
       "         0.68199471, -0.78045963],\n",
       "       [ 0.05417049, -0.33807828, -0.16837266, ...,  0.00441858,\n",
       "         0.04893883, -0.33835739],\n",
       "       [-0.54445938, -0.9308757 , -0.38205436, ..., -0.60208945,\n",
       "         0.23780633, -0.95730052],\n",
       "       ...,\n",
       "       [ 1.85006011, -0.61887706,  0.90003584, ...,  1.81075769,\n",
       "         2.37480712,  0.45742664],\n",
       "       [-1.14308925,  0.62911751, -3.69412069, ...,  1.38883907,\n",
       "        -0.88140849, -0.33835739],\n",
       "       [-1.14308925,  0.12991968,  1.43424008, ..., -1.23496738,\n",
       "        -0.68204835, -1.04572097]])"
      ]
     },
     "execution_count": 24,
     "metadata": {},
     "output_type": "execute_result"
    }
   ],
   "source": [
    "sc = StandardScaler()\n",
    "X_train_scaled = sc.fit_transform(X_train)\n",
    "X_test_scaled = sc.transform(X_test)\n",
    "\n",
    "X_train_scaled"
   ]
  },
  {
   "cell_type": "markdown",
   "id": "c93766a2",
   "metadata": {
    "id": "09bc1024"
   },
   "source": [
    "# LVQ"
   ]
  },
  {
   "cell_type": "code",
   "execution_count": 25,
   "id": "53045308",
   "metadata": {},
   "outputs": [],
   "source": [
    "from sklearn.metrics import euclidean_distances\n",
    "from sklearn.base import BaseEstimator, ClassifierMixin\n",
    "from sklearn.utils.validation import check_X_y, check_array, check_is_fitted\n",
    "import numpy as np\n",
    "\n",
    "class LVQ(BaseEstimator, ClassifierMixin):\n",
    "\n",
    "    def __init__(self, alpha=1e-1, dec_alpha=.5, min_alpha=1e-25, input_size=8, \n",
    "                 n_classes=2, epochs=20):\n",
    "        self.min_alpha = min_alpha\n",
    "        self.weights_ = np.array([])\n",
    "        self.input_size_ = input_size\n",
    "        self.n_classes_ = n_classes\n",
    "        self.alpha = alpha\n",
    "        self.dec_alpha = dec_alpha\n",
    "        self.epochs = epochs\n",
    "        \n",
    "        if self.alpha < self.min_alpha:\n",
    "            raise Exception('alpha harus > min_alpha !')\n",
    "    \n",
    "    def get_params(self, deep=True):\n",
    "        return {'alpha': self.alpha, \n",
    "                'dec_alpha': self.dec_alpha,\n",
    "                'min_alpha': self.min_alpha,\n",
    "                'input_size': self.input_size_,\n",
    "                'n_classes': self.n_classes_,\n",
    "                'epochs': self.epochs}\n",
    "    \n",
    "    def set_params(self, **parameters):\n",
    "        for parameter, value in parameters.items():\n",
    "            setattr(self, parameter, value)\n",
    "        return self\n",
    "    \n",
    "    def winner(self, sample):\n",
    "        distance0 = euclidean_distances(sample.reshape(1,-1), self.weights_[0:1])\n",
    "        distance1 = euclidean_distances(sample.reshape(1,-1), self.weights_[1:])\n",
    "\n",
    "        if distance0[0,0] < distance1[0,0]:\n",
    "            return 0\n",
    "        else:\n",
    "            return 1\n",
    "\n",
    "    def fit(self, X, y, verbose=1):\n",
    "\n",
    "        X, y = check_X_y(X, y)\n",
    "\n",
    "        if self.weights_.size == 0:\n",
    "            idx = np.random.randint(len(X), size=self.n_classes_)\n",
    "            self.weights_ = X[idx]\n",
    "        else:\n",
    "            None\n",
    "\n",
    "        for epoch in (tqdm(range(self.epochs)) if verbose == 1 else range(self.epochs)):\n",
    "            if verbose == 2:\n",
    "                print('Start Epoch {}'.format(epoch+1))\n",
    "                print('=============================')\n",
    "    \n",
    "            elif verbose == 3:\n",
    "                print('Start Epoch {}'.format(epoch+1))\n",
    "                print('Weights on start epoch {0}: {1}'.format(epoch+1, self.weights_))\n",
    "                print('=============================')\n",
    "            else:\n",
    "                None\n",
    "\n",
    "            for i in range(len(X)):\n",
    "                pred = self.winner(X[i])\n",
    "                actual = y[i]\n",
    "                if actual == pred:\n",
    "                    for j in range(self.input_size_):\n",
    "                        self.weights_[pred, j] = self.weights_[pred, j] + self.alpha * (X[i, j] - self.weights_[pred, j])\n",
    "                else:\n",
    "                    for j in range(self.input_size_):\n",
    "                        self.weights_[pred, j] = self.weights_[pred, j] - self.alpha * (X[i, j] - self.weights_[pred, j])\n",
    "\n",
    "            if self.alpha >= self.min_alpha:\n",
    "                update_alpha = self.alpha * self.dec_alpha\n",
    "                if self.min_alpha < update_alpha:\n",
    "                    self.alpha = update_alpha \n",
    "                else:\n",
    "                    if verbose > 0:\n",
    "                        print('=======================')\n",
    "                        print('Alpha minimal tercapai!')\n",
    "                        print('=======================')\n",
    "                    \n",
    "                    return self\n",
    "                \n",
    "        return self\n",
    "    \n",
    "    def predict(self, X):\n",
    "\n",
    "        check_is_fitted(self)\n",
    "        X = check_array(X)\n",
    "\n",
    "        prediction = np.array([])\n",
    "        for sample in X:\n",
    "            prediction = np.append(prediction, self.winner(sample))\n",
    "        return prediction"
   ]
  },
  {
   "cell_type": "markdown",
   "id": "b19e8f28",
   "metadata": {},
   "source": [
    "# LVQ-GA"
   ]
  },
  {
   "cell_type": "code",
   "execution_count": 26,
   "id": "03a977b6",
   "metadata": {},
   "outputs": [],
   "source": [
    "from sklearn.metrics import accuracy_score\n",
    "\n",
    "class LVQ_GA(LVQ, BaseEstimator, ClassifierMixin):\n",
    "    def __init__(self, alpha=1e-1, dec_alpha=.5, min_alpha=1e-25, input_size=8, \n",
    "                 n_classes=2, lvq_epochs=20, num_generations=50, sol_per_pop=100,\n",
    "                 cr=.9, pc=.9, pm=.5):\n",
    "        self.num_generations = num_generations\n",
    "        self.sol_per_pop = sol_per_pop\n",
    "        self.cr = cr\n",
    "        self.pc = pc\n",
    "        self.pm = pm\n",
    "        self.population = np.array([])\n",
    "        self.fitness = np.array([])\n",
    "        self.reset_alpha = alpha\n",
    "        LVQ.__init__(self, alpha, dec_alpha, min_alpha, input_size, n_classes,\n",
    "                     lvq_epochs)\n",
    "    \n",
    "    def get_params(self, deep=False):\n",
    "        params = LVQ.get_params(self)\n",
    "        params['num_generations'] = self.num_generations\n",
    "        params['sol_per_pop'] = self.sol_per_pop\n",
    "        params['cr'] = self.cr\n",
    "        params['pc'] = self.pc\n",
    "        params['pm'] = self.pm\n",
    "        params['population'] = self.population\n",
    "\n",
    "        return params\n",
    "    \n",
    "    def set_params(self, **parameters):\n",
    "        for parameter, value in parameters.items():\n",
    "            setattr(self, parameter, value)\n",
    "        return self\n",
    "    \n",
    "    def create_pop(self, X, y):\n",
    "        data_0 = X[y == 0]\n",
    "        data_1 = X[y == 1]\n",
    "        idx_0 = np.random.randint(0, len(data_0), self.sol_per_pop)\n",
    "        idx_1 = np.random.randint(0, len(data_1), self.sol_per_pop)\n",
    "        pop = []\n",
    "        for i in range(self.sol_per_pop):\n",
    "            pop.append([data_0[idx_0[i]],data_1[idx_1[i]]])\n",
    "        \n",
    "        self.population = np.array(pop)\n",
    "        \n",
    "        return self\n",
    "\n",
    "    \"\"\"def create_pop(self):\n",
    "        pop = []\n",
    "        for i in range(self.sol_per_pop):\n",
    "            ind = np.random.uniform(-1, 1, (self.n_classes_, self.input_size_))\n",
    "            pop.append(ind)\n",
    "\n",
    "        self.population = np.array(pop)\n",
    "        return self\"\"\"\n",
    "\n",
    "    def parent_random_selection(self):\n",
    "        position = np.random.permutation(self.population.shape[0])\n",
    "        parents = copy.deepcopy(self.population[position[:2]])\n",
    "\n",
    "        return parents\n",
    "\n",
    "    def parent_tour_selection(self, K):\n",
    "        parents = []\n",
    "        for i in range(2):\n",
    "            position = np.random.permutation(self.sol_per_pop)[:K]\n",
    "            max_fitness = self.fitness[position].max()\n",
    "            parent_idx = np.where(self.fitness == max_fitness)[0][0]\n",
    "            parent = copy.deepcopy(self.population[parent_idx])\n",
    "            parents.append(parent)\n",
    "\n",
    "        return parents\n",
    "    \n",
    "    def crossover_2_point(self, p1, p2):\n",
    "        ps = random.sample(range(1, p1.shape[1] - 1), 2)\n",
    "        ps.append(0)\n",
    "        ps.append(p1.shape[1])\n",
    "        ps = sorted(ps)\n",
    "        c1, c2 = copy.deepcopy(p1), copy.deepcopy(p2)\n",
    "        \n",
    "        for i in range(0, 3):\n",
    "            if i % 2 == 0:\n",
    "                continue\n",
    "            c1[:,ps[i]:ps[i + 1]] = p2[:,ps[i]:ps[i + 1]]\n",
    "            c2[:,ps[i]:ps[i + 1]] = p1[:,ps[i]:ps[i + 1]]\n",
    "\n",
    "        return c1, c2\n",
    "    \n",
    "    def random_mutation(self, ind):\n",
    "        mut = copy.deepcopy(ind)\n",
    "\n",
    "        for i in range(len(mut)):\n",
    "            mut[i] = mut[i] + random.uniform(-1,1)*(max(mut[i]) - min(mut[i]))\n",
    "        \n",
    "        mut = np.array(mut)\n",
    "\n",
    "        return mut\n",
    "    \n",
    "    def run_crossover_mutation(self, parents, generation):\n",
    "\n",
    "        crossed_offspring = []\n",
    "        ind1, ind2 = copy.deepcopy(parents[0]), copy.deepcopy(parents[1])\n",
    "        if random.random() < self.pc:\n",
    "            # Applying crossover to pair of individuals\n",
    "            children = self.crossover_2_point(ind1, ind2)\n",
    "            crossed_offspring.append(children[0])\n",
    "            crossed_offspring.append(children[1])\n",
    "        else:\n",
    "            # Passing individuals further without crossover\n",
    "            crossed_offspring.append(ind1)\n",
    "            crossed_offspring.append(ind2)\n",
    "\n",
    "        crossed_offspring = np.array(crossed_offspring)\n",
    "\n",
    "        # MUTATION\n",
    "        mutated = []\n",
    "        for ind in crossed_offspring:\n",
    "            if random.random() < self.pm:\n",
    "                # Applying mutation to an individual\n",
    "                mutated.append(self.random_mutation(ind))\n",
    "            else:\n",
    "                # Passing individual further without mutation\n",
    "                mutated.append(ind)\n",
    "            \n",
    "        mutated = np.array(mutated)\n",
    "        if generation == 0:\n",
    "            self.population = np.append(self.population, mutated)\\\n",
    "                                        .reshape(-1, self.n_classes_, \n",
    "                                                self.input_size_)\n",
    "        else:\n",
    "            self.mutated = np.append(self.mutated, mutated)\\\n",
    "                                     .reshape(-1, self.n_classes_, \n",
    "                                              self.input_size_)\n",
    "            self.population = np.append(self.population, mutated)\\\n",
    "                                        .reshape(-1, self.n_classes_, \n",
    "                                                self.input_size_)\n",
    "\n",
    "        return self\n",
    "    \n",
    "    def run_lvq(self, X, y, weights, verbose):\n",
    "        self.weights_ = copy.deepcopy(weights)\n",
    "        self.alpha = self.reset_alpha\n",
    "        LVQ.fit(self, X, y, verbose)\n",
    "        return self\n",
    "    \n",
    "    def eval_fitness(self, y_true, y_pred):\n",
    "        fitness = accuracy_score(y_true, y_pred)\n",
    "        return fitness\n",
    "\n",
    "    def elitism_selection(self, fitness_list, n_child):\n",
    "        if self.fitness.size == 0:\n",
    "            self.fitness = copy.deepcopy(fitness_list)\n",
    "        else:\n",
    "            self.fitness = np.append(self.fitness, fitness_list)\n",
    "        idxpop_fitness_zip = list(zip(range(self.sol_per_pop+n_child), self.fitness))\n",
    "        idxpop_fitness_zip = sorted(idxpop_fitness_zip, key=lambda x: x[1], reverse=True)\n",
    "        self.idxpop_fitness_zip = np.array(idxpop_fitness_zip)\n",
    "\n",
    "        idxpop_selected = self.idxpop_fitness_zip[:self.sol_per_pop, 0].astype(int)\n",
    "        self.fitness = self.idxpop_fitness_zip[:self.sol_per_pop, 1]\n",
    "        self.population = self.population[idxpop_selected]\n",
    "\n",
    "        return self        \n",
    "\n",
    "    def fit(self, X, y, val_data, lvq_verbose=1, ga_verbose=1): # ini belom\n",
    "        self.create_pop(X, y)\n",
    "\n",
    "        if val_data != None:\n",
    "            X_train, X_val, y_train, y_val = X, val_data[0], y, val_data[1]\n",
    "        else:\n",
    "            X_train, X_val, y_train, y_val = X.copy(), X.copy(), y.copy(), y.copy()\n",
    "\n",
    "        n_child = int(self.cr * self.sol_per_pop)\n",
    "        self.best_fitness_ = 0\n",
    "        self.best_weights_ = 0\n",
    "\n",
    "        for generation in range(self.num_generations):    \n",
    "            \n",
    "            generation_best_fitness = 0\n",
    "            \n",
    "            self.mutated = np.array([])\n",
    "            for i in range(int(np.floor(n_child/2))):\n",
    "                if generation == 0:\n",
    "                    parents = self.parent_random_selection()\n",
    "                else:\n",
    "                    parents = self.parent_tour_selection(5)\n",
    "                self.run_crossover_mutation(parents, generation)\n",
    "\n",
    "            fitness_list = []\n",
    "\n",
    "            print('Generation {} Start...'.format(generation+1))\n",
    "            for ind in tqdm(self.population if generation==0 else self.mutated):\n",
    "                self.run_lvq(X_train, y_train, ind, lvq_verbose)\n",
    "                predictions = LVQ.predict(self, X_val)\n",
    "                fitness = self.eval_fitness(y_val, predictions)\n",
    "\n",
    "                if fitness > generation_best_fitness:\n",
    "                    generation_best_fitness = copy.deepcopy(fitness)\n",
    "                    \n",
    "                    if fitness > self.best_fitness_:\n",
    "                        self.best_fitness_ = copy.deepcopy(fitness)\n",
    "                        self.best_weights_ = copy.deepcopy(self.weights_)\n",
    "\n",
    "                fitness_list.append(fitness)\n",
    "            \n",
    "            print('Best generation fitness:', generation_best_fitness)\n",
    "            self.elitism_selection(fitness_list, n_child)\n",
    "        \n",
    "        print('Best fitness:', self.best_fitness_)\n",
    "        self.weights_ = copy.deepcopy(self.best_weights_)\n",
    "\n",
    "        return self\n",
    "    \n",
    "    def predict(self, X):\n",
    "        pred = LVQ.predict(self, X)\n",
    "        return pred"
   ]
  },
  {
   "cell_type": "code",
   "execution_count": 27,
   "id": "e4acf6e5",
   "metadata": {},
   "outputs": [
    {
     "name": "stdout",
     "output_type": "stream",
     "text": [
      "Generation 1 Start...\n"
     ]
    },
    {
     "name": "stderr",
     "output_type": "stream",
     "text": [
      "100%|██████████| 190/190 [02:47<00:00,  1.13it/s]\n"
     ]
    },
    {
     "name": "stdout",
     "output_type": "stream",
     "text": [
      "Best generation fitness: 0.7413793103448276\n",
      "Generation 2 Start...\n"
     ]
    },
    {
     "name": "stderr",
     "output_type": "stream",
     "text": [
      "100%|██████████| 90/90 [01:21<00:00,  1.11it/s]\n"
     ]
    },
    {
     "name": "stdout",
     "output_type": "stream",
     "text": [
      "Best generation fitness: 0.7413793103448276\n",
      "Generation 3 Start...\n"
     ]
    },
    {
     "name": "stderr",
     "output_type": "stream",
     "text": [
      "100%|██████████| 90/90 [01:19<00:00,  1.14it/s]"
     ]
    },
    {
     "name": "stdout",
     "output_type": "stream",
     "text": [
      "Best generation fitness: 0.7413793103448276\n",
      "Best fitness: 0.7413793103448276\n"
     ]
    },
    {
     "name": "stderr",
     "output_type": "stream",
     "text": [
      "\n"
     ]
    },
    {
     "data": {
      "text/html": [
       "<style>#sk-container-id-1 {color: black;background-color: white;}#sk-container-id-1 pre{padding: 0;}#sk-container-id-1 div.sk-toggleable {background-color: white;}#sk-container-id-1 label.sk-toggleable__label {cursor: pointer;display: block;width: 100%;margin-bottom: 0;padding: 0.3em;box-sizing: border-box;text-align: center;}#sk-container-id-1 label.sk-toggleable__label-arrow:before {content: \"▸\";float: left;margin-right: 0.25em;color: #696969;}#sk-container-id-1 label.sk-toggleable__label-arrow:hover:before {color: black;}#sk-container-id-1 div.sk-estimator:hover label.sk-toggleable__label-arrow:before {color: black;}#sk-container-id-1 div.sk-toggleable__content {max-height: 0;max-width: 0;overflow: hidden;text-align: left;background-color: #f0f8ff;}#sk-container-id-1 div.sk-toggleable__content pre {margin: 0.2em;color: black;border-radius: 0.25em;background-color: #f0f8ff;}#sk-container-id-1 input.sk-toggleable__control:checked~div.sk-toggleable__content {max-height: 200px;max-width: 100%;overflow: auto;}#sk-container-id-1 input.sk-toggleable__control:checked~label.sk-toggleable__label-arrow:before {content: \"▾\";}#sk-container-id-1 div.sk-estimator input.sk-toggleable__control:checked~label.sk-toggleable__label {background-color: #d4ebff;}#sk-container-id-1 div.sk-label input.sk-toggleable__control:checked~label.sk-toggleable__label {background-color: #d4ebff;}#sk-container-id-1 input.sk-hidden--visually {border: 0;clip: rect(1px 1px 1px 1px);clip: rect(1px, 1px, 1px, 1px);height: 1px;margin: -1px;overflow: hidden;padding: 0;position: absolute;width: 1px;}#sk-container-id-1 div.sk-estimator {font-family: monospace;background-color: #f0f8ff;border: 1px dotted black;border-radius: 0.25em;box-sizing: border-box;margin-bottom: 0.5em;}#sk-container-id-1 div.sk-estimator:hover {background-color: #d4ebff;}#sk-container-id-1 div.sk-parallel-item::after {content: \"\";width: 100%;border-bottom: 1px solid gray;flex-grow: 1;}#sk-container-id-1 div.sk-label:hover label.sk-toggleable__label {background-color: #d4ebff;}#sk-container-id-1 div.sk-serial::before {content: \"\";position: absolute;border-left: 1px solid gray;box-sizing: border-box;top: 0;bottom: 0;left: 50%;z-index: 0;}#sk-container-id-1 div.sk-serial {display: flex;flex-direction: column;align-items: center;background-color: white;padding-right: 0.2em;padding-left: 0.2em;position: relative;}#sk-container-id-1 div.sk-item {position: relative;z-index: 1;}#sk-container-id-1 div.sk-parallel {display: flex;align-items: stretch;justify-content: center;background-color: white;position: relative;}#sk-container-id-1 div.sk-item::before, #sk-container-id-1 div.sk-parallel-item::before {content: \"\";position: absolute;border-left: 1px solid gray;box-sizing: border-box;top: 0;bottom: 0;left: 50%;z-index: -1;}#sk-container-id-1 div.sk-parallel-item {display: flex;flex-direction: column;z-index: 1;position: relative;background-color: white;}#sk-container-id-1 div.sk-parallel-item:first-child::after {align-self: flex-end;width: 50%;}#sk-container-id-1 div.sk-parallel-item:last-child::after {align-self: flex-start;width: 50%;}#sk-container-id-1 div.sk-parallel-item:only-child::after {width: 0;}#sk-container-id-1 div.sk-dashed-wrapped {border: 1px dashed gray;margin: 0 0.4em 0.5em 0.4em;box-sizing: border-box;padding-bottom: 0.4em;background-color: white;}#sk-container-id-1 div.sk-label label {font-family: monospace;font-weight: bold;display: inline-block;line-height: 1.2em;}#sk-container-id-1 div.sk-label-container {text-align: center;}#sk-container-id-1 div.sk-container {/* jupyter's `normalize.less` sets `[hidden] { display: none; }` but bootstrap.min.css set `[hidden] { display: none !important; }` so we also need the `!important` here to be able to override the default hidden behavior on the sphinx rendered scikit-learn.org. See: https://github.com/scikit-learn/scikit-learn/issues/21755 */display: inline-block !important;position: relative;}#sk-container-id-1 div.sk-text-repr-fallback {display: none;}</style><div id=\"sk-container-id-1\" class=\"sk-top-container\"><div class=\"sk-text-repr-fallback\"><pre>LVQ_GA(alpha=7.459000000000005e-10, dec_alpha=0.1, epochs=200, min_alpha=1e-10,\n",
       "       num_generations=3,\n",
       "       population=array([[[-8.43774314e-01, -3.69278148e-01, -1.66414455e+00, ...,\n",
       "         -1.15585764e+00, -1.74904137e-01, -6.03618731e-01],\n",
       "        [-1.14308925e+00, -5.72795054e-02, -3.69412069e+00, ...,\n",
       "          7.03433636e-02, -1.10525145e+00, -7.80459626e-01]],\n",
       "\n",
       "       [[-8.46354649e-01,  7.82536494e-01,...\n",
       "          1.77120282e+00,  1.74850494e-01, -6.03618731e-01],\n",
       "        [-8.43774314e-01, -2.44478691e-01, -2.75213507e-01, ...,\n",
       "          2.28562848e-01,  3.00762161e-01, -1.04572097e+00]],\n",
       "\n",
       "       [[-5.44459378e-01, -8.99675840e-01,  3.65831590e-01, ...,\n",
       "         -1.01082311e+00,  2.59865008e+00, -4.26777835e-01],\n",
       "        [-2.45144441e-01,  1.62751316e+00,  7.93194988e-01, ...,\n",
       "          5.05446946e-01, -6.96038537e-01, -9.57300521e-01]]]))</pre><b>In a Jupyter environment, please rerun this cell to show the HTML representation or trust the notebook. <br />On GitHub, the HTML representation is unable to render, please try loading this page with nbviewer.org.</b></div><div class=\"sk-container\" hidden><div class=\"sk-item\"><div class=\"sk-estimator sk-toggleable\"><input class=\"sk-toggleable__control sk-hidden--visually\" id=\"sk-estimator-id-1\" type=\"checkbox\" checked><label for=\"sk-estimator-id-1\" class=\"sk-toggleable__label sk-toggleable__label-arrow\">LVQ_GA</label><div class=\"sk-toggleable__content\"><pre>LVQ_GA(alpha=7.459000000000005e-10, dec_alpha=0.1, epochs=200, min_alpha=1e-10,\n",
       "       num_generations=3,\n",
       "       population=array([[[-8.43774314e-01, -3.69278148e-01, -1.66414455e+00, ...,\n",
       "         -1.15585764e+00, -1.74904137e-01, -6.03618731e-01],\n",
       "        [-1.14308925e+00, -5.72795054e-02, -3.69412069e+00, ...,\n",
       "          7.03433636e-02, -1.10525145e+00, -7.80459626e-01]],\n",
       "\n",
       "       [[-8.46354649e-01,  7.82536494e-01,...\n",
       "          1.77120282e+00,  1.74850494e-01, -6.03618731e-01],\n",
       "        [-8.43774314e-01, -2.44478691e-01, -2.75213507e-01, ...,\n",
       "          2.28562848e-01,  3.00762161e-01, -1.04572097e+00]],\n",
       "\n",
       "       [[-5.44459378e-01, -8.99675840e-01,  3.65831590e-01, ...,\n",
       "         -1.01082311e+00,  2.59865008e+00, -4.26777835e-01],\n",
       "        [-2.45144441e-01,  1.62751316e+00,  7.93194988e-01, ...,\n",
       "          5.05446946e-01, -6.96038537e-01, -9.57300521e-01]]]))</pre></div></div></div></div></div>"
      ],
      "text/plain": [
       "LVQ_GA(alpha=7.459000000000005e-10, dec_alpha=0.1, epochs=200, min_alpha=1e-10,\n",
       "       num_generations=3,\n",
       "       population=array([[[-8.43774314e-01, -3.69278148e-01, -1.66414455e+00, ...,\n",
       "         -1.15585764e+00, -1.74904137e-01, -6.03618731e-01],\n",
       "        [-1.14308925e+00, -5.72795054e-02, -3.69412069e+00, ...,\n",
       "          7.03433636e-02, -1.10525145e+00, -7.80459626e-01]],\n",
       "\n",
       "       [[-8.46354649e-01,  7.82536494e-01,...\n",
       "          1.77120282e+00,  1.74850494e-01, -6.03618731e-01],\n",
       "        [-8.43774314e-01, -2.44478691e-01, -2.75213507e-01, ...,\n",
       "          2.28562848e-01,  3.00762161e-01, -1.04572097e+00]],\n",
       "\n",
       "       [[-5.44459378e-01, -8.99675840e-01,  3.65831590e-01, ...,\n",
       "         -1.01082311e+00,  2.59865008e+00, -4.26777835e-01],\n",
       "        [-2.45144441e-01,  1.62751316e+00,  7.93194988e-01, ...,\n",
       "          5.05446946e-01, -6.96038537e-01, -9.57300521e-01]]]))"
      ]
     },
     "execution_count": 27,
     "metadata": {},
     "output_type": "execute_result"
    }
   ],
   "source": [
    "lvq_ga = LVQ_GA(alpha=.07459, dec_alpha=.1, lvq_epochs=200, \n",
    "                min_alpha=1e-10, sol_per_pop=100, \n",
    "                num_generations=3, cr=.9, pc=.9, pm=.5)\n",
    "lvq_ga.fit(X_train_scaled, y_train, \n",
    "           val_data=(X_test_scaled, y_test), \n",
    "           lvq_verbose=0)"
   ]
  },
  {
   "cell_type": "code",
   "execution_count": 28,
   "id": "3c4a1237",
   "metadata": {},
   "outputs": [
    {
     "name": "stdout",
     "output_type": "stream",
     "text": [
      "Generation 1 Start...\n"
     ]
    },
    {
     "name": "stderr",
     "output_type": "stream",
     "text": [
      "100%|██████████| 190/190 [01:02<00:00,  3.05it/s]\n"
     ]
    },
    {
     "name": "stdout",
     "output_type": "stream",
     "text": [
      "Best generation fitness: 0.8017241379310345\n",
      "Generation 2 Start...\n"
     ]
    },
    {
     "name": "stderr",
     "output_type": "stream",
     "text": [
      "100%|██████████| 90/90 [00:31<00:00,  2.90it/s]\n"
     ]
    },
    {
     "name": "stdout",
     "output_type": "stream",
     "text": [
      "Best generation fitness: 0.7931034482758621\n",
      "Generation 3 Start...\n"
     ]
    },
    {
     "name": "stderr",
     "output_type": "stream",
     "text": [
      "100%|██████████| 90/90 [00:28<00:00,  3.16it/s]\n"
     ]
    },
    {
     "name": "stdout",
     "output_type": "stream",
     "text": [
      "Best generation fitness: 0.7931034482758621\n",
      "Generation 4 Start...\n"
     ]
    },
    {
     "name": "stderr",
     "output_type": "stream",
     "text": [
      "100%|██████████| 90/90 [00:26<00:00,  3.35it/s]\n"
     ]
    },
    {
     "name": "stdout",
     "output_type": "stream",
     "text": [
      "Best generation fitness: 0.7844827586206896\n",
      "Generation 5 Start...\n"
     ]
    },
    {
     "name": "stderr",
     "output_type": "stream",
     "text": [
      "100%|██████████| 90/90 [00:26<00:00,  3.36it/s]\n"
     ]
    },
    {
     "name": "stdout",
     "output_type": "stream",
     "text": [
      "Best generation fitness: 0.7672413793103449\n",
      "Generation 6 Start...\n"
     ]
    },
    {
     "name": "stderr",
     "output_type": "stream",
     "text": [
      "100%|██████████| 90/90 [00:26<00:00,  3.36it/s]\n"
     ]
    },
    {
     "name": "stdout",
     "output_type": "stream",
     "text": [
      "Best generation fitness: 0.7758620689655172\n",
      "Generation 7 Start...\n"
     ]
    },
    {
     "name": "stderr",
     "output_type": "stream",
     "text": [
      "100%|██████████| 90/90 [00:26<00:00,  3.36it/s]\n"
     ]
    },
    {
     "name": "stdout",
     "output_type": "stream",
     "text": [
      "Best generation fitness: 0.8017241379310345\n",
      "Generation 8 Start...\n"
     ]
    },
    {
     "name": "stderr",
     "output_type": "stream",
     "text": [
      "100%|██████████| 90/90 [00:27<00:00,  3.30it/s]\n"
     ]
    },
    {
     "name": "stdout",
     "output_type": "stream",
     "text": [
      "Best generation fitness: 0.8017241379310345\n",
      "Generation 9 Start...\n"
     ]
    },
    {
     "name": "stderr",
     "output_type": "stream",
     "text": [
      "100%|██████████| 90/90 [00:26<00:00,  3.37it/s]\n"
     ]
    },
    {
     "name": "stdout",
     "output_type": "stream",
     "text": [
      "Best generation fitness: 0.8017241379310345\n",
      "Generation 10 Start...\n"
     ]
    },
    {
     "name": "stderr",
     "output_type": "stream",
     "text": [
      "100%|██████████| 90/90 [00:26<00:00,  3.36it/s]\n"
     ]
    },
    {
     "name": "stdout",
     "output_type": "stream",
     "text": [
      "Best generation fitness: 0.8017241379310345\n",
      "Generation 11 Start...\n"
     ]
    },
    {
     "name": "stderr",
     "output_type": "stream",
     "text": [
      "100%|██████████| 90/90 [00:26<00:00,  3.35it/s]\n"
     ]
    },
    {
     "name": "stdout",
     "output_type": "stream",
     "text": [
      "Best generation fitness: 0.8017241379310345\n",
      "Generation 12 Start...\n"
     ]
    },
    {
     "name": "stderr",
     "output_type": "stream",
     "text": [
      "100%|██████████| 90/90 [00:27<00:00,  3.28it/s]\n"
     ]
    },
    {
     "name": "stdout",
     "output_type": "stream",
     "text": [
      "Best generation fitness: 0.8103448275862069\n",
      "Generation 13 Start...\n"
     ]
    },
    {
     "name": "stderr",
     "output_type": "stream",
     "text": [
      "100%|██████████| 90/90 [00:27<00:00,  3.27it/s]\n"
     ]
    },
    {
     "name": "stdout",
     "output_type": "stream",
     "text": [
      "Best generation fitness: 0.8103448275862069\n",
      "Generation 14 Start...\n"
     ]
    },
    {
     "name": "stderr",
     "output_type": "stream",
     "text": [
      "100%|██████████| 90/90 [00:27<00:00,  3.30it/s]\n"
     ]
    },
    {
     "name": "stdout",
     "output_type": "stream",
     "text": [
      "Best generation fitness: 0.8103448275862069\n",
      "Generation 15 Start...\n"
     ]
    },
    {
     "name": "stderr",
     "output_type": "stream",
     "text": [
      "100%|██████████| 90/90 [00:29<00:00,  3.03it/s]\n"
     ]
    },
    {
     "name": "stdout",
     "output_type": "stream",
     "text": [
      "Best generation fitness: 0.8103448275862069\n",
      "Generation 16 Start...\n"
     ]
    },
    {
     "name": "stderr",
     "output_type": "stream",
     "text": [
      "100%|██████████| 90/90 [00:28<00:00,  3.20it/s]\n"
     ]
    },
    {
     "name": "stdout",
     "output_type": "stream",
     "text": [
      "Best generation fitness: 0.8103448275862069\n",
      "Generation 17 Start...\n"
     ]
    },
    {
     "name": "stderr",
     "output_type": "stream",
     "text": [
      "100%|██████████| 90/90 [00:27<00:00,  3.29it/s]\n"
     ]
    },
    {
     "name": "stdout",
     "output_type": "stream",
     "text": [
      "Best generation fitness: 0.8103448275862069\n",
      "Generation 18 Start...\n"
     ]
    },
    {
     "name": "stderr",
     "output_type": "stream",
     "text": [
      "100%|██████████| 90/90 [00:29<00:00,  3.09it/s]\n"
     ]
    },
    {
     "name": "stdout",
     "output_type": "stream",
     "text": [
      "Best generation fitness: 0.8103448275862069\n",
      "Generation 19 Start...\n"
     ]
    },
    {
     "name": "stderr",
     "output_type": "stream",
     "text": [
      "100%|██████████| 90/90 [00:29<00:00,  3.02it/s]\n"
     ]
    },
    {
     "name": "stdout",
     "output_type": "stream",
     "text": [
      "Best generation fitness: 0.8103448275862069\n",
      "Generation 20 Start...\n"
     ]
    },
    {
     "name": "stderr",
     "output_type": "stream",
     "text": [
      "100%|██████████| 90/90 [00:27<00:00,  3.27it/s]\n"
     ]
    },
    {
     "name": "stdout",
     "output_type": "stream",
     "text": [
      "Best generation fitness: 0.8103448275862069\n",
      "Generation 21 Start...\n"
     ]
    },
    {
     "name": "stderr",
     "output_type": "stream",
     "text": [
      "100%|██████████| 90/90 [00:26<00:00,  3.36it/s]\n"
     ]
    },
    {
     "name": "stdout",
     "output_type": "stream",
     "text": [
      "Best generation fitness: 0.8103448275862069\n",
      "Generation 22 Start...\n"
     ]
    },
    {
     "name": "stderr",
     "output_type": "stream",
     "text": [
      "100%|██████████| 90/90 [00:27<00:00,  3.30it/s]\n"
     ]
    },
    {
     "name": "stdout",
     "output_type": "stream",
     "text": [
      "Best generation fitness: 0.8103448275862069\n",
      "Generation 23 Start...\n"
     ]
    },
    {
     "name": "stderr",
     "output_type": "stream",
     "text": [
      "100%|██████████| 90/90 [00:27<00:00,  3.29it/s]\n"
     ]
    },
    {
     "name": "stdout",
     "output_type": "stream",
     "text": [
      "Best generation fitness: 0.8103448275862069\n",
      "Generation 24 Start...\n"
     ]
    },
    {
     "name": "stderr",
     "output_type": "stream",
     "text": [
      "100%|██████████| 90/90 [00:29<00:00,  3.07it/s]\n"
     ]
    },
    {
     "name": "stdout",
     "output_type": "stream",
     "text": [
      "Best generation fitness: 0.8103448275862069\n",
      "Generation 25 Start...\n"
     ]
    },
    {
     "name": "stderr",
     "output_type": "stream",
     "text": [
      "100%|██████████| 90/90 [00:27<00:00,  3.32it/s]\n"
     ]
    },
    {
     "name": "stdout",
     "output_type": "stream",
     "text": [
      "Best generation fitness: 0.8103448275862069\n",
      "Generation 26 Start...\n"
     ]
    },
    {
     "name": "stderr",
     "output_type": "stream",
     "text": [
      "100%|██████████| 90/90 [00:27<00:00,  3.33it/s]\n"
     ]
    },
    {
     "name": "stdout",
     "output_type": "stream",
     "text": [
      "Best generation fitness: 0.8103448275862069\n",
      "Generation 27 Start...\n"
     ]
    },
    {
     "name": "stderr",
     "output_type": "stream",
     "text": [
      "100%|██████████| 90/90 [00:27<00:00,  3.28it/s]\n"
     ]
    },
    {
     "name": "stdout",
     "output_type": "stream",
     "text": [
      "Best generation fitness: 0.8103448275862069\n",
      "Generation 28 Start...\n"
     ]
    },
    {
     "name": "stderr",
     "output_type": "stream",
     "text": [
      "100%|██████████| 90/90 [00:27<00:00,  3.31it/s]\n"
     ]
    },
    {
     "name": "stdout",
     "output_type": "stream",
     "text": [
      "Best generation fitness: 0.8103448275862069\n",
      "Generation 29 Start...\n"
     ]
    },
    {
     "name": "stderr",
     "output_type": "stream",
     "text": [
      "100%|██████████| 90/90 [00:27<00:00,  3.29it/s]\n"
     ]
    },
    {
     "name": "stdout",
     "output_type": "stream",
     "text": [
      "Best generation fitness: 0.8103448275862069\n",
      "Generation 30 Start...\n"
     ]
    },
    {
     "name": "stderr",
     "output_type": "stream",
     "text": [
      "100%|██████████| 90/90 [00:26<00:00,  3.34it/s]\n"
     ]
    },
    {
     "name": "stdout",
     "output_type": "stream",
     "text": [
      "Best generation fitness: 0.8103448275862069\n",
      "Generation 31 Start...\n"
     ]
    },
    {
     "name": "stderr",
     "output_type": "stream",
     "text": [
      "100%|██████████| 90/90 [00:26<00:00,  3.35it/s]\n"
     ]
    },
    {
     "name": "stdout",
     "output_type": "stream",
     "text": [
      "Best generation fitness: 0.8103448275862069\n",
      "Generation 32 Start...\n"
     ]
    },
    {
     "name": "stderr",
     "output_type": "stream",
     "text": [
      "100%|██████████| 90/90 [00:26<00:00,  3.37it/s]\n"
     ]
    },
    {
     "name": "stdout",
     "output_type": "stream",
     "text": [
      "Best generation fitness: 0.8103448275862069\n",
      "Generation 33 Start...\n"
     ]
    },
    {
     "name": "stderr",
     "output_type": "stream",
     "text": [
      "100%|██████████| 90/90 [00:27<00:00,  3.27it/s]\n"
     ]
    },
    {
     "name": "stdout",
     "output_type": "stream",
     "text": [
      "Best generation fitness: 0.8103448275862069\n",
      "Generation 34 Start...\n"
     ]
    },
    {
     "name": "stderr",
     "output_type": "stream",
     "text": [
      "100%|██████████| 90/90 [00:27<00:00,  3.32it/s]\n"
     ]
    },
    {
     "name": "stdout",
     "output_type": "stream",
     "text": [
      "Best generation fitness: 0.8103448275862069\n",
      "Generation 35 Start...\n"
     ]
    },
    {
     "name": "stderr",
     "output_type": "stream",
     "text": [
      "100%|██████████| 90/90 [00:26<00:00,  3.37it/s]\n"
     ]
    },
    {
     "name": "stdout",
     "output_type": "stream",
     "text": [
      "Best generation fitness: 0.8103448275862069\n",
      "Generation 36 Start...\n"
     ]
    },
    {
     "name": "stderr",
     "output_type": "stream",
     "text": [
      "100%|██████████| 90/90 [00:27<00:00,  3.29it/s]\n"
     ]
    },
    {
     "name": "stdout",
     "output_type": "stream",
     "text": [
      "Best generation fitness: 0.8103448275862069\n",
      "Generation 37 Start...\n"
     ]
    },
    {
     "name": "stderr",
     "output_type": "stream",
     "text": [
      "100%|██████████| 90/90 [00:30<00:00,  2.95it/s]\n"
     ]
    },
    {
     "name": "stdout",
     "output_type": "stream",
     "text": [
      "Best generation fitness: 0.8103448275862069\n",
      "Generation 38 Start...\n"
     ]
    },
    {
     "name": "stderr",
     "output_type": "stream",
     "text": [
      "100%|██████████| 90/90 [00:29<00:00,  3.10it/s]\n"
     ]
    },
    {
     "name": "stdout",
     "output_type": "stream",
     "text": [
      "Best generation fitness: 0.8103448275862069\n",
      "Generation 39 Start...\n"
     ]
    },
    {
     "name": "stderr",
     "output_type": "stream",
     "text": [
      "100%|██████████| 90/90 [00:26<00:00,  3.37it/s]\n"
     ]
    },
    {
     "name": "stdout",
     "output_type": "stream",
     "text": [
      "Best generation fitness: 0.8103448275862069\n",
      "Generation 40 Start...\n"
     ]
    },
    {
     "name": "stderr",
     "output_type": "stream",
     "text": [
      "100%|██████████| 90/90 [00:27<00:00,  3.24it/s]\n"
     ]
    },
    {
     "name": "stdout",
     "output_type": "stream",
     "text": [
      "Best generation fitness: 0.8103448275862069\n",
      "Generation 41 Start...\n"
     ]
    },
    {
     "name": "stderr",
     "output_type": "stream",
     "text": [
      "100%|██████████| 90/90 [00:27<00:00,  3.29it/s]\n"
     ]
    },
    {
     "name": "stdout",
     "output_type": "stream",
     "text": [
      "Best generation fitness: 0.8103448275862069\n",
      "Generation 42 Start...\n"
     ]
    },
    {
     "name": "stderr",
     "output_type": "stream",
     "text": [
      "100%|██████████| 90/90 [00:30<00:00,  2.92it/s]\n"
     ]
    },
    {
     "name": "stdout",
     "output_type": "stream",
     "text": [
      "Best generation fitness: 0.8103448275862069\n",
      "Generation 43 Start...\n"
     ]
    },
    {
     "name": "stderr",
     "output_type": "stream",
     "text": [
      "100%|██████████| 90/90 [00:27<00:00,  3.28it/s]\n"
     ]
    },
    {
     "name": "stdout",
     "output_type": "stream",
     "text": [
      "Best generation fitness: 0.8103448275862069\n",
      "Generation 44 Start...\n"
     ]
    },
    {
     "name": "stderr",
     "output_type": "stream",
     "text": [
      "100%|██████████| 90/90 [00:29<00:00,  3.06it/s]\n"
     ]
    },
    {
     "name": "stdout",
     "output_type": "stream",
     "text": [
      "Best generation fitness: 0.8103448275862069\n",
      "Generation 45 Start...\n"
     ]
    },
    {
     "name": "stderr",
     "output_type": "stream",
     "text": [
      "100%|██████████| 90/90 [00:28<00:00,  3.20it/s]\n"
     ]
    },
    {
     "name": "stdout",
     "output_type": "stream",
     "text": [
      "Best generation fitness: 0.8103448275862069\n",
      "Generation 46 Start...\n"
     ]
    },
    {
     "name": "stderr",
     "output_type": "stream",
     "text": [
      "100%|██████████| 90/90 [00:27<00:00,  3.33it/s]\n"
     ]
    },
    {
     "name": "stdout",
     "output_type": "stream",
     "text": [
      "Best generation fitness: 0.8103448275862069\n",
      "Generation 47 Start...\n"
     ]
    },
    {
     "name": "stderr",
     "output_type": "stream",
     "text": [
      "100%|██████████| 90/90 [00:27<00:00,  3.27it/s]\n"
     ]
    },
    {
     "name": "stdout",
     "output_type": "stream",
     "text": [
      "Best generation fitness: 0.8103448275862069\n",
      "Generation 48 Start...\n"
     ]
    },
    {
     "name": "stderr",
     "output_type": "stream",
     "text": [
      "100%|██████████| 90/90 [00:27<00:00,  3.24it/s]\n"
     ]
    },
    {
     "name": "stdout",
     "output_type": "stream",
     "text": [
      "Best generation fitness: 0.8103448275862069\n",
      "Generation 49 Start...\n"
     ]
    },
    {
     "name": "stderr",
     "output_type": "stream",
     "text": [
      "100%|██████████| 90/90 [00:28<00:00,  3.12it/s]\n"
     ]
    },
    {
     "name": "stdout",
     "output_type": "stream",
     "text": [
      "Best generation fitness: 0.8103448275862069\n",
      "Generation 50 Start...\n"
     ]
    },
    {
     "name": "stderr",
     "output_type": "stream",
     "text": [
      "100%|██████████| 90/90 [00:26<00:00,  3.35it/s]\n"
     ]
    },
    {
     "name": "stdout",
     "output_type": "stream",
     "text": [
      "Best generation fitness: 0.8103448275862069\n",
      "Generation 51 Start...\n"
     ]
    },
    {
     "name": "stderr",
     "output_type": "stream",
     "text": [
      "100%|██████████| 90/90 [00:28<00:00,  3.14it/s]\n"
     ]
    },
    {
     "name": "stdout",
     "output_type": "stream",
     "text": [
      "Best generation fitness: 0.8103448275862069\n",
      "Generation 52 Start...\n"
     ]
    },
    {
     "name": "stderr",
     "output_type": "stream",
     "text": [
      "100%|██████████| 90/90 [00:26<00:00,  3.37it/s]\n"
     ]
    },
    {
     "name": "stdout",
     "output_type": "stream",
     "text": [
      "Best generation fitness: 0.8103448275862069\n",
      "Generation 53 Start...\n"
     ]
    },
    {
     "name": "stderr",
     "output_type": "stream",
     "text": [
      "100%|██████████| 90/90 [00:26<00:00,  3.33it/s]\n"
     ]
    },
    {
     "name": "stdout",
     "output_type": "stream",
     "text": [
      "Best generation fitness: 0.8103448275862069\n",
      "Generation 54 Start...\n"
     ]
    },
    {
     "name": "stderr",
     "output_type": "stream",
     "text": [
      "100%|██████████| 90/90 [00:26<00:00,  3.37it/s]\n"
     ]
    },
    {
     "name": "stdout",
     "output_type": "stream",
     "text": [
      "Best generation fitness: 0.8103448275862069\n",
      "Generation 55 Start...\n"
     ]
    },
    {
     "name": "stderr",
     "output_type": "stream",
     "text": [
      "100%|██████████| 90/90 [00:26<00:00,  3.36it/s]\n"
     ]
    },
    {
     "name": "stdout",
     "output_type": "stream",
     "text": [
      "Best generation fitness: 0.8103448275862069\n",
      "Generation 56 Start...\n"
     ]
    },
    {
     "name": "stderr",
     "output_type": "stream",
     "text": [
      "100%|██████████| 90/90 [00:26<00:00,  3.35it/s]\n"
     ]
    },
    {
     "name": "stdout",
     "output_type": "stream",
     "text": [
      "Best generation fitness: 0.8103448275862069\n",
      "Generation 57 Start...\n"
     ]
    },
    {
     "name": "stderr",
     "output_type": "stream",
     "text": [
      "100%|██████████| 90/90 [00:26<00:00,  3.35it/s]\n"
     ]
    },
    {
     "name": "stdout",
     "output_type": "stream",
     "text": [
      "Best generation fitness: 0.8103448275862069\n",
      "Generation 58 Start...\n"
     ]
    },
    {
     "name": "stderr",
     "output_type": "stream",
     "text": [
      "100%|██████████| 90/90 [00:26<00:00,  3.36it/s]\n"
     ]
    },
    {
     "name": "stdout",
     "output_type": "stream",
     "text": [
      "Best generation fitness: 0.8103448275862069\n",
      "Generation 59 Start...\n"
     ]
    },
    {
     "name": "stderr",
     "output_type": "stream",
     "text": [
      "100%|██████████| 90/90 [00:26<00:00,  3.34it/s]\n"
     ]
    },
    {
     "name": "stdout",
     "output_type": "stream",
     "text": [
      "Best generation fitness: 0.8103448275862069\n",
      "Generation 60 Start...\n"
     ]
    },
    {
     "name": "stderr",
     "output_type": "stream",
     "text": [
      "100%|██████████| 90/90 [00:27<00:00,  3.21it/s]\n"
     ]
    },
    {
     "name": "stdout",
     "output_type": "stream",
     "text": [
      "Best generation fitness: 0.8103448275862069\n",
      "Generation 61 Start...\n"
     ]
    },
    {
     "name": "stderr",
     "output_type": "stream",
     "text": [
      "100%|██████████| 90/90 [00:27<00:00,  3.23it/s]\n"
     ]
    },
    {
     "name": "stdout",
     "output_type": "stream",
     "text": [
      "Best generation fitness: 0.8103448275862069\n",
      "Generation 62 Start...\n"
     ]
    },
    {
     "name": "stderr",
     "output_type": "stream",
     "text": [
      "100%|██████████| 90/90 [00:26<00:00,  3.36it/s]\n"
     ]
    },
    {
     "name": "stdout",
     "output_type": "stream",
     "text": [
      "Best generation fitness: 0.8103448275862069\n",
      "Generation 63 Start...\n"
     ]
    },
    {
     "name": "stderr",
     "output_type": "stream",
     "text": [
      "100%|██████████| 90/90 [00:27<00:00,  3.29it/s]\n"
     ]
    },
    {
     "name": "stdout",
     "output_type": "stream",
     "text": [
      "Best generation fitness: 0.8103448275862069\n",
      "Generation 64 Start...\n"
     ]
    },
    {
     "name": "stderr",
     "output_type": "stream",
     "text": [
      "100%|██████████| 90/90 [00:27<00:00,  3.23it/s]\n"
     ]
    },
    {
     "name": "stdout",
     "output_type": "stream",
     "text": [
      "Best generation fitness: 0.8103448275862069\n",
      "Generation 65 Start...\n"
     ]
    },
    {
     "name": "stderr",
     "output_type": "stream",
     "text": [
      "100%|██████████| 90/90 [00:26<00:00,  3.34it/s]\n"
     ]
    },
    {
     "name": "stdout",
     "output_type": "stream",
     "text": [
      "Best generation fitness: 0.8103448275862069\n",
      "Generation 66 Start...\n"
     ]
    },
    {
     "name": "stderr",
     "output_type": "stream",
     "text": [
      "100%|██████████| 90/90 [00:26<00:00,  3.36it/s]\n"
     ]
    },
    {
     "name": "stdout",
     "output_type": "stream",
     "text": [
      "Best generation fitness: 0.8103448275862069\n",
      "Generation 67 Start...\n"
     ]
    },
    {
     "name": "stderr",
     "output_type": "stream",
     "text": [
      "100%|██████████| 90/90 [00:26<00:00,  3.37it/s]\n"
     ]
    },
    {
     "name": "stdout",
     "output_type": "stream",
     "text": [
      "Best generation fitness: 0.8103448275862069\n",
      "Generation 68 Start...\n"
     ]
    },
    {
     "name": "stderr",
     "output_type": "stream",
     "text": [
      "100%|██████████| 90/90 [00:26<00:00,  3.37it/s]\n"
     ]
    },
    {
     "name": "stdout",
     "output_type": "stream",
     "text": [
      "Best generation fitness: 0.8103448275862069\n",
      "Generation 69 Start...\n"
     ]
    },
    {
     "name": "stderr",
     "output_type": "stream",
     "text": [
      "100%|██████████| 90/90 [00:27<00:00,  3.33it/s]\n"
     ]
    },
    {
     "name": "stdout",
     "output_type": "stream",
     "text": [
      "Best generation fitness: 0.8103448275862069\n",
      "Generation 70 Start...\n"
     ]
    },
    {
     "name": "stderr",
     "output_type": "stream",
     "text": [
      "100%|██████████| 90/90 [00:26<00:00,  3.40it/s]\n"
     ]
    },
    {
     "name": "stdout",
     "output_type": "stream",
     "text": [
      "Best generation fitness: 0.8103448275862069\n",
      "Generation 71 Start...\n"
     ]
    },
    {
     "name": "stderr",
     "output_type": "stream",
     "text": [
      "100%|██████████| 90/90 [00:26<00:00,  3.41it/s]\n"
     ]
    },
    {
     "name": "stdout",
     "output_type": "stream",
     "text": [
      "Best generation fitness: 0.8103448275862069\n",
      "Generation 72 Start...\n"
     ]
    },
    {
     "name": "stderr",
     "output_type": "stream",
     "text": [
      "100%|██████████| 90/90 [00:26<00:00,  3.41it/s]\n"
     ]
    },
    {
     "name": "stdout",
     "output_type": "stream",
     "text": [
      "Best generation fitness: 0.8103448275862069\n",
      "Generation 73 Start...\n"
     ]
    },
    {
     "name": "stderr",
     "output_type": "stream",
     "text": [
      "100%|██████████| 90/90 [01:10<00:00,  1.28it/s]\n"
     ]
    },
    {
     "name": "stdout",
     "output_type": "stream",
     "text": [
      "Best generation fitness: 0.8103448275862069\n",
      "Generation 74 Start...\n"
     ]
    },
    {
     "name": "stderr",
     "output_type": "stream",
     "text": [
      "100%|██████████| 90/90 [00:29<00:00,  3.04it/s]\n"
     ]
    },
    {
     "name": "stdout",
     "output_type": "stream",
     "text": [
      "Best generation fitness: 0.8103448275862069\n",
      "Generation 75 Start...\n"
     ]
    },
    {
     "name": "stderr",
     "output_type": "stream",
     "text": [
      "100%|██████████| 90/90 [00:27<00:00,  3.24it/s]\n"
     ]
    },
    {
     "name": "stdout",
     "output_type": "stream",
     "text": [
      "Best generation fitness: 0.8103448275862069\n",
      "Generation 76 Start...\n"
     ]
    },
    {
     "name": "stderr",
     "output_type": "stream",
     "text": [
      "100%|██████████| 90/90 [00:26<00:00,  3.36it/s]\n"
     ]
    },
    {
     "name": "stdout",
     "output_type": "stream",
     "text": [
      "Best generation fitness: 0.8103448275862069\n",
      "Generation 77 Start...\n"
     ]
    },
    {
     "name": "stderr",
     "output_type": "stream",
     "text": [
      "100%|██████████| 90/90 [00:29<00:00,  3.09it/s]\n"
     ]
    },
    {
     "name": "stdout",
     "output_type": "stream",
     "text": [
      "Best generation fitness: 0.8103448275862069\n",
      "Generation 78 Start...\n"
     ]
    },
    {
     "name": "stderr",
     "output_type": "stream",
     "text": [
      "100%|██████████| 90/90 [00:30<00:00,  2.98it/s]\n"
     ]
    },
    {
     "name": "stdout",
     "output_type": "stream",
     "text": [
      "Best generation fitness: 0.8103448275862069\n",
      "Generation 79 Start...\n"
     ]
    },
    {
     "name": "stderr",
     "output_type": "stream",
     "text": [
      "100%|██████████| 90/90 [00:29<00:00,  3.02it/s]\n"
     ]
    },
    {
     "name": "stdout",
     "output_type": "stream",
     "text": [
      "Best generation fitness: 0.8103448275862069\n",
      "Generation 80 Start...\n"
     ]
    },
    {
     "name": "stderr",
     "output_type": "stream",
     "text": [
      "100%|██████████| 90/90 [00:30<00:00,  2.98it/s]\n"
     ]
    },
    {
     "name": "stdout",
     "output_type": "stream",
     "text": [
      "Best generation fitness: 0.8103448275862069\n",
      "Generation 81 Start...\n"
     ]
    },
    {
     "name": "stderr",
     "output_type": "stream",
     "text": [
      "100%|██████████| 90/90 [00:30<00:00,  2.98it/s]\n"
     ]
    },
    {
     "name": "stdout",
     "output_type": "stream",
     "text": [
      "Best generation fitness: 0.8103448275862069\n",
      "Generation 82 Start...\n"
     ]
    },
    {
     "name": "stderr",
     "output_type": "stream",
     "text": [
      "100%|██████████| 90/90 [00:29<00:00,  3.01it/s]\n"
     ]
    },
    {
     "name": "stdout",
     "output_type": "stream",
     "text": [
      "Best generation fitness: 0.8103448275862069\n",
      "Generation 83 Start...\n"
     ]
    },
    {
     "name": "stderr",
     "output_type": "stream",
     "text": [
      "100%|██████████| 90/90 [00:30<00:00,  2.96it/s]\n"
     ]
    },
    {
     "name": "stdout",
     "output_type": "stream",
     "text": [
      "Best generation fitness: 0.8103448275862069\n",
      "Generation 84 Start...\n"
     ]
    },
    {
     "name": "stderr",
     "output_type": "stream",
     "text": [
      "100%|██████████| 90/90 [00:29<00:00,  3.04it/s]\n"
     ]
    },
    {
     "name": "stdout",
     "output_type": "stream",
     "text": [
      "Best generation fitness: 0.8103448275862069\n",
      "Generation 85 Start...\n"
     ]
    },
    {
     "name": "stderr",
     "output_type": "stream",
     "text": [
      "100%|██████████| 90/90 [00:29<00:00,  3.02it/s]\n"
     ]
    },
    {
     "name": "stdout",
     "output_type": "stream",
     "text": [
      "Best generation fitness: 0.8103448275862069\n",
      "Generation 86 Start...\n"
     ]
    },
    {
     "name": "stderr",
     "output_type": "stream",
     "text": [
      "100%|██████████| 90/90 [00:29<00:00,  3.04it/s]\n"
     ]
    },
    {
     "name": "stdout",
     "output_type": "stream",
     "text": [
      "Best generation fitness: 0.8103448275862069\n",
      "Generation 87 Start...\n"
     ]
    },
    {
     "name": "stderr",
     "output_type": "stream",
     "text": [
      "100%|██████████| 90/90 [00:29<00:00,  3.03it/s]\n"
     ]
    },
    {
     "name": "stdout",
     "output_type": "stream",
     "text": [
      "Best generation fitness: 0.8103448275862069\n",
      "Generation 88 Start...\n"
     ]
    },
    {
     "name": "stderr",
     "output_type": "stream",
     "text": [
      "100%|██████████| 90/90 [00:29<00:00,  3.02it/s]\n"
     ]
    },
    {
     "name": "stdout",
     "output_type": "stream",
     "text": [
      "Best generation fitness: 0.8103448275862069\n",
      "Generation 89 Start...\n"
     ]
    },
    {
     "name": "stderr",
     "output_type": "stream",
     "text": [
      "100%|██████████| 90/90 [00:29<00:00,  3.04it/s]\n"
     ]
    },
    {
     "name": "stdout",
     "output_type": "stream",
     "text": [
      "Best generation fitness: 0.8103448275862069\n",
      "Generation 90 Start...\n"
     ]
    },
    {
     "name": "stderr",
     "output_type": "stream",
     "text": [
      "100%|██████████| 90/90 [00:31<00:00,  2.84it/s]\n"
     ]
    },
    {
     "name": "stdout",
     "output_type": "stream",
     "text": [
      "Best generation fitness: 0.8189655172413793\n",
      "Generation 91 Start...\n"
     ]
    },
    {
     "name": "stderr",
     "output_type": "stream",
     "text": [
      "100%|██████████| 90/90 [00:29<00:00,  3.04it/s]\n"
     ]
    },
    {
     "name": "stdout",
     "output_type": "stream",
     "text": [
      "Best generation fitness: 0.8103448275862069\n",
      "Generation 92 Start...\n"
     ]
    },
    {
     "name": "stderr",
     "output_type": "stream",
     "text": [
      "100%|██████████| 90/90 [00:29<00:00,  3.00it/s]\n"
     ]
    },
    {
     "name": "stdout",
     "output_type": "stream",
     "text": [
      "Best generation fitness: 0.8103448275862069\n",
      "Generation 93 Start...\n"
     ]
    },
    {
     "name": "stderr",
     "output_type": "stream",
     "text": [
      "100%|██████████| 90/90 [00:30<00:00,  2.96it/s]\n"
     ]
    },
    {
     "name": "stdout",
     "output_type": "stream",
     "text": [
      "Best generation fitness: 0.8103448275862069\n",
      "Generation 94 Start...\n"
     ]
    },
    {
     "name": "stderr",
     "output_type": "stream",
     "text": [
      "100%|██████████| 90/90 [00:32<00:00,  2.80it/s]\n"
     ]
    },
    {
     "name": "stdout",
     "output_type": "stream",
     "text": [
      "Best generation fitness: 0.8103448275862069\n",
      "Generation 95 Start...\n"
     ]
    },
    {
     "name": "stderr",
     "output_type": "stream",
     "text": [
      "100%|██████████| 90/90 [00:30<00:00,  2.96it/s]\n"
     ]
    },
    {
     "name": "stdout",
     "output_type": "stream",
     "text": [
      "Best generation fitness: 0.8103448275862069\n",
      "Generation 96 Start...\n"
     ]
    },
    {
     "name": "stderr",
     "output_type": "stream",
     "text": [
      "100%|██████████| 90/90 [00:30<00:00,  2.94it/s]\n"
     ]
    },
    {
     "name": "stdout",
     "output_type": "stream",
     "text": [
      "Best generation fitness: 0.8103448275862069\n",
      "Generation 97 Start...\n"
     ]
    },
    {
     "name": "stderr",
     "output_type": "stream",
     "text": [
      "100%|██████████| 90/90 [00:32<00:00,  2.76it/s]\n"
     ]
    },
    {
     "name": "stdout",
     "output_type": "stream",
     "text": [
      "Best generation fitness: 0.8103448275862069\n",
      "Generation 98 Start...\n"
     ]
    },
    {
     "name": "stderr",
     "output_type": "stream",
     "text": [
      "100%|██████████| 90/90 [00:31<00:00,  2.86it/s]\n"
     ]
    },
    {
     "name": "stdout",
     "output_type": "stream",
     "text": [
      "Best generation fitness: 0.8189655172413793\n",
      "Generation 99 Start...\n"
     ]
    },
    {
     "name": "stderr",
     "output_type": "stream",
     "text": [
      "100%|██████████| 90/90 [00:29<00:00,  3.03it/s]\n"
     ]
    },
    {
     "name": "stdout",
     "output_type": "stream",
     "text": [
      "Best generation fitness: 0.8189655172413793\n",
      "Generation 100 Start...\n"
     ]
    },
    {
     "name": "stderr",
     "output_type": "stream",
     "text": [
      "100%|██████████| 90/90 [00:29<00:00,  3.03it/s]"
     ]
    },
    {
     "name": "stdout",
     "output_type": "stream",
     "text": [
      "Best generation fitness: 0.8189655172413793\n",
      "Best fitness: 0.8189655172413793\n"
     ]
    },
    {
     "name": "stderr",
     "output_type": "stream",
     "text": [
      "\n"
     ]
    },
    {
     "data": {
      "text/html": [
       "<style>#sk-container-id-2 {color: black;background-color: white;}#sk-container-id-2 pre{padding: 0;}#sk-container-id-2 div.sk-toggleable {background-color: white;}#sk-container-id-2 label.sk-toggleable__label {cursor: pointer;display: block;width: 100%;margin-bottom: 0;padding: 0.3em;box-sizing: border-box;text-align: center;}#sk-container-id-2 label.sk-toggleable__label-arrow:before {content: \"▸\";float: left;margin-right: 0.25em;color: #696969;}#sk-container-id-2 label.sk-toggleable__label-arrow:hover:before {color: black;}#sk-container-id-2 div.sk-estimator:hover label.sk-toggleable__label-arrow:before {color: black;}#sk-container-id-2 div.sk-toggleable__content {max-height: 0;max-width: 0;overflow: hidden;text-align: left;background-color: #f0f8ff;}#sk-container-id-2 div.sk-toggleable__content pre {margin: 0.2em;color: black;border-radius: 0.25em;background-color: #f0f8ff;}#sk-container-id-2 input.sk-toggleable__control:checked~div.sk-toggleable__content {max-height: 200px;max-width: 100%;overflow: auto;}#sk-container-id-2 input.sk-toggleable__control:checked~label.sk-toggleable__label-arrow:before {content: \"▾\";}#sk-container-id-2 div.sk-estimator input.sk-toggleable__control:checked~label.sk-toggleable__label {background-color: #d4ebff;}#sk-container-id-2 div.sk-label input.sk-toggleable__control:checked~label.sk-toggleable__label {background-color: #d4ebff;}#sk-container-id-2 input.sk-hidden--visually {border: 0;clip: rect(1px 1px 1px 1px);clip: rect(1px, 1px, 1px, 1px);height: 1px;margin: -1px;overflow: hidden;padding: 0;position: absolute;width: 1px;}#sk-container-id-2 div.sk-estimator {font-family: monospace;background-color: #f0f8ff;border: 1px dotted black;border-radius: 0.25em;box-sizing: border-box;margin-bottom: 0.5em;}#sk-container-id-2 div.sk-estimator:hover {background-color: #d4ebff;}#sk-container-id-2 div.sk-parallel-item::after {content: \"\";width: 100%;border-bottom: 1px solid gray;flex-grow: 1;}#sk-container-id-2 div.sk-label:hover label.sk-toggleable__label {background-color: #d4ebff;}#sk-container-id-2 div.sk-serial::before {content: \"\";position: absolute;border-left: 1px solid gray;box-sizing: border-box;top: 0;bottom: 0;left: 50%;z-index: 0;}#sk-container-id-2 div.sk-serial {display: flex;flex-direction: column;align-items: center;background-color: white;padding-right: 0.2em;padding-left: 0.2em;position: relative;}#sk-container-id-2 div.sk-item {position: relative;z-index: 1;}#sk-container-id-2 div.sk-parallel {display: flex;align-items: stretch;justify-content: center;background-color: white;position: relative;}#sk-container-id-2 div.sk-item::before, #sk-container-id-2 div.sk-parallel-item::before {content: \"\";position: absolute;border-left: 1px solid gray;box-sizing: border-box;top: 0;bottom: 0;left: 50%;z-index: -1;}#sk-container-id-2 div.sk-parallel-item {display: flex;flex-direction: column;z-index: 1;position: relative;background-color: white;}#sk-container-id-2 div.sk-parallel-item:first-child::after {align-self: flex-end;width: 50%;}#sk-container-id-2 div.sk-parallel-item:last-child::after {align-self: flex-start;width: 50%;}#sk-container-id-2 div.sk-parallel-item:only-child::after {width: 0;}#sk-container-id-2 div.sk-dashed-wrapped {border: 1px dashed gray;margin: 0 0.4em 0.5em 0.4em;box-sizing: border-box;padding-bottom: 0.4em;background-color: white;}#sk-container-id-2 div.sk-label label {font-family: monospace;font-weight: bold;display: inline-block;line-height: 1.2em;}#sk-container-id-2 div.sk-label-container {text-align: center;}#sk-container-id-2 div.sk-container {/* jupyter's `normalize.less` sets `[hidden] { display: none; }` but bootstrap.min.css set `[hidden] { display: none !important; }` so we also need the `!important` here to be able to override the default hidden behavior on the sphinx rendered scikit-learn.org. See: https://github.com/scikit-learn/scikit-learn/issues/21755 */display: inline-block !important;position: relative;}#sk-container-id-2 div.sk-text-repr-fallback {display: none;}</style><div id=\"sk-container-id-2\" class=\"sk-top-container\"><div class=\"sk-text-repr-fallback\"><pre>LVQ_GA(alpha=0.0007459000000000001, dec_alpha=0.1, epochs=200, min_alpha=0.0001,\n",
       "       num_generations=100,\n",
       "       population=array([[[-3.67209467, -1.58103801, -2.4064254 , ..., -2.81377227,\n",
       "         -4.07752066, -4.03056896],\n",
       "        [ 0.59754014,  0.39350935, -5.42492522, ..., -3.25669492,\n",
       "          0.35485046, -1.02630108]],\n",
       "\n",
       "       [[-3.67209467, -1.58103801, -2.4064254 , ..., -2.81377227,\n",
       "         -4.07752066, -4.03056896],\n",
       "        [ 0....\n",
       "        [ 1.50183621,  1.29780542, -4.52062915, ..., -2.35239885,\n",
       "          1.25914653, -0.12200501]],\n",
       "\n",
       "       [[-0.8723588 ,  1.21869785,  0.39331047, ..., -0.01403641,\n",
       "         -1.27778479, -1.23083309],\n",
       "        [ 1.50183621,  1.29780542, -4.52062915, ..., -2.35239885,\n",
       "          1.25914653, -0.12200501]],\n",
       "\n",
       "       [[-0.8723588 ,  1.21869785,  0.39331047, ..., -0.01403641,\n",
       "         -1.27778479, -1.23083309],\n",
       "        [ 1.50183621,  1.29780542, -4.52062915, ..., -2.35239885,\n",
       "          1.25914653, -0.12200501]]]))</pre><b>In a Jupyter environment, please rerun this cell to show the HTML representation or trust the notebook. <br />On GitHub, the HTML representation is unable to render, please try loading this page with nbviewer.org.</b></div><div class=\"sk-container\" hidden><div class=\"sk-item\"><div class=\"sk-estimator sk-toggleable\"><input class=\"sk-toggleable__control sk-hidden--visually\" id=\"sk-estimator-id-2\" type=\"checkbox\" checked><label for=\"sk-estimator-id-2\" class=\"sk-toggleable__label sk-toggleable__label-arrow\">LVQ_GA</label><div class=\"sk-toggleable__content\"><pre>LVQ_GA(alpha=0.0007459000000000001, dec_alpha=0.1, epochs=200, min_alpha=0.0001,\n",
       "       num_generations=100,\n",
       "       population=array([[[-3.67209467, -1.58103801, -2.4064254 , ..., -2.81377227,\n",
       "         -4.07752066, -4.03056896],\n",
       "        [ 0.59754014,  0.39350935, -5.42492522, ..., -3.25669492,\n",
       "          0.35485046, -1.02630108]],\n",
       "\n",
       "       [[-3.67209467, -1.58103801, -2.4064254 , ..., -2.81377227,\n",
       "         -4.07752066, -4.03056896],\n",
       "        [ 0....\n",
       "        [ 1.50183621,  1.29780542, -4.52062915, ..., -2.35239885,\n",
       "          1.25914653, -0.12200501]],\n",
       "\n",
       "       [[-0.8723588 ,  1.21869785,  0.39331047, ..., -0.01403641,\n",
       "         -1.27778479, -1.23083309],\n",
       "        [ 1.50183621,  1.29780542, -4.52062915, ..., -2.35239885,\n",
       "          1.25914653, -0.12200501]],\n",
       "\n",
       "       [[-0.8723588 ,  1.21869785,  0.39331047, ..., -0.01403641,\n",
       "         -1.27778479, -1.23083309],\n",
       "        [ 1.50183621,  1.29780542, -4.52062915, ..., -2.35239885,\n",
       "          1.25914653, -0.12200501]]]))</pre></div></div></div></div></div>"
      ],
      "text/plain": [
       "LVQ_GA(alpha=0.0007459000000000001, dec_alpha=0.1, epochs=200, min_alpha=0.0001,\n",
       "       num_generations=100,\n",
       "       population=array([[[-3.67209467, -1.58103801, -2.4064254 , ..., -2.81377227,\n",
       "         -4.07752066, -4.03056896],\n",
       "        [ 0.59754014,  0.39350935, -5.42492522, ..., -3.25669492,\n",
       "          0.35485046, -1.02630108]],\n",
       "\n",
       "       [[-3.67209467, -1.58103801, -2.4064254 , ..., -2.81377227,\n",
       "         -4.07752066, -4.03056896],\n",
       "        [ 0....\n",
       "        [ 1.50183621,  1.29780542, -4.52062915, ..., -2.35239885,\n",
       "          1.25914653, -0.12200501]],\n",
       "\n",
       "       [[-0.8723588 ,  1.21869785,  0.39331047, ..., -0.01403641,\n",
       "         -1.27778479, -1.23083309],\n",
       "        [ 1.50183621,  1.29780542, -4.52062915, ..., -2.35239885,\n",
       "          1.25914653, -0.12200501]],\n",
       "\n",
       "       [[-0.8723588 ,  1.21869785,  0.39331047, ..., -0.01403641,\n",
       "         -1.27778479, -1.23083309],\n",
       "        [ 1.50183621,  1.29780542, -4.52062915, ..., -2.35239885,\n",
       "          1.25914653, -0.12200501]]]))"
      ]
     },
     "execution_count": 28,
     "metadata": {},
     "output_type": "execute_result"
    }
   ],
   "source": [
    "lvq_ga = LVQ_GA(alpha=.07459, dec_alpha=.1, lvq_epochs=200, \n",
    "                min_alpha=0.0001, sol_per_pop=100, \n",
    "                num_generations=100, cr=.9, pc=.9, pm=.5)\n",
    "lvq_ga.fit(X_train_scaled, y_train, \n",
    "           val_data=(X_test_scaled, y_test), \n",
    "           lvq_verbose=0)"
   ]
  },
  {
   "cell_type": "code",
   "execution_count": 29,
   "id": "aa1abbd5",
   "metadata": {},
   "outputs": [
    {
     "data": {
      "text/plain": [
       "array([[-0.43729137, -0.68401822, -0.11621086, -0.05240362, -0.21205349,\n",
       "        -0.48836701, -0.26858928, -0.56306414],\n",
       "       [ 0.95103198,  1.8495751 , -0.91242062, -0.04844099, -0.29778965,\n",
       "         0.86386935,  0.56021602,  0.1723636 ]])"
      ]
     },
     "execution_count": 29,
     "metadata": {},
     "output_type": "execute_result"
    }
   ],
   "source": [
    "lvq_ga.best_weights_"
   ]
  },
  {
   "cell_type": "code",
   "execution_count": 30,
   "id": "60fe5211",
   "metadata": {},
   "outputs": [],
   "source": [
    "y_pred = lvq_ga.predict(X_test_scaled)"
   ]
  },
  {
   "cell_type": "code",
   "execution_count": 34,
   "id": "523666c5",
   "metadata": {},
   "outputs": [
    {
     "name": "stdout",
     "output_type": "stream",
     "text": [
      "              precision    recall  f1-score   support\n",
      "\n",
      "           0       0.86      0.87      0.86        76\n",
      "           1       0.74      0.72      0.73        40\n",
      "\n",
      "    accuracy                           0.82       116\n",
      "   macro avg       0.80      0.80      0.80       116\n",
      "weighted avg       0.82      0.82      0.82       116\n",
      "\n"
     ]
    }
   ],
   "source": [
    "print(classification_report(y_test,y_pred))"
   ]
  },
  {
   "cell_type": "code",
   "execution_count": 39,
   "id": "5977c4cf",
   "metadata": {},
   "outputs": [
    {
     "name": "stdout",
     "output_type": "stream",
     "text": [
      "0.8189655172413793\n"
     ]
    }
   ],
   "source": [
    "print(accuracy_score(y_test,y_pred))"
   ]
  },
  {
   "cell_type": "code",
   "execution_count": 35,
   "id": "25564dff",
   "metadata": {},
   "outputs": [
    {
     "name": "stdout",
     "output_type": "stream",
     "text": [
      "0.7341772151898733\n"
     ]
    }
   ],
   "source": [
    "print(f1_score(y_test,y_pred))"
   ]
  },
  {
   "cell_type": "code",
   "execution_count": 38,
   "id": "e8d531fb",
   "metadata": {},
   "outputs": [
    {
     "name": "stdout",
     "output_type": "stream",
     "text": [
      "0.725\n"
     ]
    }
   ],
   "source": [
    "print(recall_score(y_test,y_pred))"
   ]
  },
  {
   "cell_type": "code",
   "execution_count": 44,
   "id": "915f0872",
   "metadata": {},
   "outputs": [],
   "source": [
    "from sklearn.metrics import precision_score"
   ]
  },
  {
   "cell_type": "code",
   "execution_count": 45,
   "id": "d3d32519",
   "metadata": {},
   "outputs": [
    {
     "name": "stdout",
     "output_type": "stream",
     "text": [
      "0.7435897435897436\n"
     ]
    }
   ],
   "source": [
    "print(precision_score(y_test,y_pred))"
   ]
  }
 ],
 "metadata": {
  "colab": {
   "collapsed_sections": [
    "da57f320",
    "7f05b344",
    "020c1ea5",
    "2784ebc8",
    "3dbf1d82"
   ],
   "provenance": []
  },
  "kernelspec": {
   "display_name": "Python 3",
   "language": "python",
   "name": "python3"
  },
  "language_info": {
   "codemirror_mode": {
    "name": "ipython",
    "version": 3
   },
   "file_extension": ".py",
   "mimetype": "text/x-python",
   "name": "python",
   "nbconvert_exporter": "python",
   "pygments_lexer": "ipython3",
   "version": "3.10.5 (tags/v3.10.5:f377153, Jun  6 2022, 16:14:13) [MSC v.1929 64 bit (AMD64)]"
  },
  "vscode": {
   "interpreter": {
    "hash": "6f33e2aab1947ef18b04b3819b323c052dfcdf5c9ef637e8187270b943f31089"
   }
  }
 },
 "nbformat": 4,
 "nbformat_minor": 5
}
